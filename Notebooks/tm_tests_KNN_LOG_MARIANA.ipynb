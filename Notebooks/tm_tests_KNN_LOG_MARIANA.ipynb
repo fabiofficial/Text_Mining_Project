{
  "cells": [
    {
      "cell_type": "markdown",
      "id": "56957489",
      "metadata": {
        "id": "56957489"
      },
      "source": [
        "# Text Mining Project - Stock Sentiment - Test Notebook\n",
        "\n",
        "## *Predicting market behavior from tweets*"
      ]
    },
    {
      "cell_type": "markdown",
      "id": "6c39b2b9",
      "metadata": {
        "id": "6c39b2b9"
      },
      "source": [
        "### Group 42\n",
        "\n",
        "Carolina Pinto - 20240494 <br>\n",
        "Fábio dos Santos - 20240678 <br>\n",
        "Guilherme – 2024 <br>\n",
        "Mariana Sousa – 20240516 <br>"
      ]
    },
    {
      "cell_type": "markdown",
      "id": "2556312b",
      "metadata": {
        "id": "2556312b"
      },
      "source": [
        "## Table of Contents\n",
        "- [1. Import Libraries](#1-import-libraries)\n",
        "- [2. Data Integration](#2-data-integration)\n",
        "   - [2.1 Data Description](#21-data-description)\n",
        "- [3. Data Content](#3-data-content)\n",
        "- [4. Data Exploration](#4-data-exploration)\n",
        "   - [4.1. Class Distribution](#41-class-distribution)\n",
        "   - [4.2. Text Length](#42-text-length)\n",
        "   - [4.3. Data Manipulation for Further Exploration](#43-data-manipulation-for-further-exploration)\n",
        "   - [4.4. Most Frequent Words per Label](#44-most-frequent-words-per-label)\n",
        "   - [4.5. Word Cloud by Label](#45-word-cloud-by-label)\n",
        "- [5. Corpus Split](#5-corpus-split)\n",
        "- [6. Data Preprocessing](#6-data-preprocessing)\n",
        "- [7. Feature Engineering](#7-feature-engineering)\n",
        "- [8. Classification Models](#8-classification-models)\n",
        "- [9. Evaluation](#9-evaluation)"
      ]
    },
    {
      "cell_type": "markdown",
      "id": "3eb529ca",
      "metadata": {
        "id": "3eb529ca"
      },
      "source": [
        "# 1. Import libraries"
      ]
    },
    {
      "cell_type": "markdown",
      "id": "1ea171af",
      "metadata": {
        "id": "1ea171af"
      },
      "source": [
        "`Step 1` Import the required libraries."
      ]
    },
    {
      "cell_type": "code",
      "source": [
        "!pip install gensim"
      ],
      "metadata": {
        "colab": {
          "base_uri": "https://localhost:8080/"
        },
        "id": "K2OvKcaK6c1r",
        "outputId": "84aac19e-dc03-4329-b637-ffc823aed4ba"
      },
      "id": "K2OvKcaK6c1r",
      "execution_count": null,
      "outputs": [
        {
          "output_type": "stream",
          "name": "stdout",
          "text": [
            "Requirement already satisfied: gensim in /usr/local/lib/python3.11/dist-packages (4.3.3)\n",
            "Requirement already satisfied: numpy<2.0,>=1.18.5 in /usr/local/lib/python3.11/dist-packages (from gensim) (1.26.4)\n",
            "Requirement already satisfied: scipy<1.14.0,>=1.7.0 in /usr/local/lib/python3.11/dist-packages (from gensim) (1.13.1)\n",
            "Requirement already satisfied: smart-open>=1.8.1 in /usr/local/lib/python3.11/dist-packages (from gensim) (7.1.0)\n",
            "Requirement already satisfied: wrapt in /usr/local/lib/python3.11/dist-packages (from smart-open>=1.8.1->gensim) (1.17.2)\n"
          ]
        }
      ]
    },
    {
      "cell_type": "code",
      "source": [
        "!pip install keras_preprocessing"
      ],
      "metadata": {
        "colab": {
          "base_uri": "https://localhost:8080/"
        },
        "id": "N5bMfWHE7IzD",
        "outputId": "6f231e8a-c49d-494c-bee3-af7cdc62c2d6"
      },
      "id": "N5bMfWHE7IzD",
      "execution_count": null,
      "outputs": [
        {
          "output_type": "stream",
          "name": "stdout",
          "text": [
            "Requirement already satisfied: keras_preprocessing in /usr/local/lib/python3.11/dist-packages (1.1.2)\n",
            "Requirement already satisfied: numpy>=1.9.1 in /usr/local/lib/python3.11/dist-packages (from keras_preprocessing) (1.26.4)\n",
            "Requirement already satisfied: six>=1.9.0 in /usr/local/lib/python3.11/dist-packages (from keras_preprocessing) (1.17.0)\n"
          ]
        }
      ]
    },
    {
      "cell_type": "code",
      "execution_count": null,
      "id": "0b0be98a",
      "metadata": {
        "colab": {
          "base_uri": "https://localhost:8080/"
        },
        "id": "0b0be98a",
        "outputId": "1d17a883-2df4-48f4-e449-648b971e7895"
      },
      "outputs": [
        {
          "output_type": "stream",
          "name": "stderr",
          "text": [
            "[nltk_data] Downloading package punkt to /root/nltk_data...\n",
            "[nltk_data]   Package punkt is already up-to-date!\n",
            "[nltk_data] Downloading package punkt_tab to /root/nltk_data...\n",
            "[nltk_data]   Package punkt_tab is already up-to-date!\n",
            "[nltk_data] Downloading package stopwords to /root/nltk_data...\n",
            "[nltk_data]   Package stopwords is already up-to-date!\n",
            "[nltk_data] Downloading package wordnet to /root/nltk_data...\n",
            "[nltk_data]   Package wordnet is already up-to-date!\n"
          ]
        },
        {
          "output_type": "execute_result",
          "data": {
            "text/plain": [
              "True"
            ]
          },
          "metadata": {},
          "execution_count": 38
        }
      ],
      "source": [
        "import pandas as pd\n",
        "import numpy as np\n",
        "import matplotlib.pyplot as plt\n",
        "import seaborn as sns\n",
        "from copy import deepcopy\n",
        "from wordcloud import WordCloud\n",
        "import nltk\n",
        "from nltk.corpus import stopwords\n",
        "from nltk.stem import PorterStemmer, WordNetLemmatizer, SnowballStemmer\n",
        "from nltk.tokenize import word_tokenize\n",
        "from collections import Counter\n",
        "import re\n",
        "from sklearn.model_selection import train_test_split\n",
        "import string\n",
        "from tqdm import tqdm\n",
        "\n",
        "from gensim.models import Word2Vec\n",
        "from nltk.tokenize import word_tokenize\n",
        "import gensim.downloader\n",
        "import gensim.downloader as api\n",
        "from transformers import pipeline\n",
        "from transformers import DistilBertForSequenceClassification, DistilBertTokenizer\n",
        "\n",
        "from sklearn.feature_extraction.text import CountVectorizer\n",
        "from sklearn.neighbors import KNeighborsClassifier\n",
        "from sklearn.linear_model import LogisticRegression\n",
        "\n",
        "\n",
        "import tensorflow as tf\n",
        "import tensorflow.keras as keras\n",
        "from keras_preprocessing.sequence import pad_sequences\n",
        "import torch\n",
        "\n",
        "from sklearn.metrics import classification_report, confusion_matrix, accuracy_score, ConfusionMatrixDisplay\n",
        "\n",
        "\n",
        "# Download required NLTK data\n",
        "nltk.download('punkt')\n",
        "nltk.download('punkt_tab')\n",
        "nltk.download('stopwords')\n",
        "nltk.download('wordnet')"
      ]
    },
    {
      "cell_type": "markdown",
      "id": "6f8c6dcb",
      "metadata": {
        "id": "6f8c6dcb"
      },
      "source": [
        "# 2. Data Integration"
      ]
    },
    {
      "cell_type": "markdown",
      "id": "c00289c3",
      "metadata": {
        "id": "c00289c3"
      },
      "source": [
        "`Step 2` Import the dataset __train.csv__ using the method **read_csv()** from pandas."
      ]
    },
    {
      "cell_type": "code",
      "execution_count": null,
      "id": "1f52aab9",
      "metadata": {
        "id": "1f52aab9"
      },
      "outputs": [],
      "source": [
        "df = pd.read_csv('train.csv')"
      ]
    },
    {
      "cell_type": "markdown",
      "id": "bc7626b6",
      "metadata": {
        "id": "bc7626b6"
      },
      "source": [
        "## 2.1. Data Description"
      ]
    },
    {
      "cell_type": "markdown",
      "id": "adfd45b9",
      "metadata": {
        "id": "adfd45b9"
      },
      "source": [
        "`text`: tweets content. <br>\n",
        "`label`: sentimental label, it can be bearish (0), bullish (1) or neutral (2)."
      ]
    },
    {
      "cell_type": "markdown",
      "id": "781dbf47",
      "metadata": {
        "id": "781dbf47"
      },
      "source": [
        "# 3. Data Content"
      ]
    },
    {
      "cell_type": "markdown",
      "id": "ba7489f5",
      "metadata": {
        "id": "ba7489f5"
      },
      "source": [
        "`Step 3` Check the first 5 rows of the dataset."
      ]
    },
    {
      "cell_type": "code",
      "execution_count": null,
      "id": "a6ea05bc",
      "metadata": {
        "id": "a6ea05bc",
        "outputId": "cebd5104-423b-4ee2-8cee-d22ff1f1badc",
        "colab": {
          "base_uri": "https://localhost:8080/",
          "height": 677
        }
      },
      "outputs": [
        {
          "output_type": "execute_result",
          "data": {
            "text/plain": [
              "                                                 text  label\n",
              "0   $BYND - JPMorgan reels in expectations on Beyo...      0\n",
              "1   $CCL $RCL - Nomura points to bookings weakness...      0\n",
              "2   $CX - Cemex cut at Credit Suisse, J.P. Morgan ...      0\n",
              "3   $ESS: BTIG Research cuts to Neutral https://t....      0\n",
              "4   $FNKO - Funko slides after Piper Jaffray PT cu...      0\n",
              "5   $FTI - TechnipFMC downgraded at Berenberg but ...      0\n",
              "6       $GM - GM loses a bull https://t.co/tdUfG5HbXy      0\n",
              "7   $GM: Deutsche Bank cuts to Hold https://t.co/7...      0\n",
              "8                  $GTT: Cowen cuts to Market Perform      0\n",
              "9   $HNHAF $HNHPD $AAPL - Trendforce cuts iPhone e...      0\n",
              "10  $HOG - Moody's warns on Harley-Davidson https:...      0\n",
              "11  $HXL - Citing aero ties, Wells slashes PT on H...      0\n",
              "12  $I - Intelsat cut to Market Perform at Raymond...      0\n",
              "13  $KRG: Compass Point cuts to Sell https://t.co/...      0\n",
              "14  $LK - Muddy Waters goes short Luckin Coffee ht...      0\n",
              "15  $MANT - ManTech downgraded ahead of difficult ...      0\n",
              "16                 $MDCO: Oppenheimer cuts to Perform      0\n",
              "17  $MPLX $MPC - MPLX cut at Credit Suisse on pote...      0\n",
              "18  $MSGN - Imperial downgrades MSG Networks amid ...      0\n",
              "19  $MTLS - Piper hits the Materialise sidelines h...      0"
            ],
            "text/html": [
              "\n",
              "  <div id=\"df-445bfb5f-4126-4b95-8076-145750a48900\" class=\"colab-df-container\">\n",
              "    <div>\n",
              "<style scoped>\n",
              "    .dataframe tbody tr th:only-of-type {\n",
              "        vertical-align: middle;\n",
              "    }\n",
              "\n",
              "    .dataframe tbody tr th {\n",
              "        vertical-align: top;\n",
              "    }\n",
              "\n",
              "    .dataframe thead th {\n",
              "        text-align: right;\n",
              "    }\n",
              "</style>\n",
              "<table border=\"1\" class=\"dataframe\">\n",
              "  <thead>\n",
              "    <tr style=\"text-align: right;\">\n",
              "      <th></th>\n",
              "      <th>text</th>\n",
              "      <th>label</th>\n",
              "    </tr>\n",
              "  </thead>\n",
              "  <tbody>\n",
              "    <tr>\n",
              "      <th>0</th>\n",
              "      <td>$BYND - JPMorgan reels in expectations on Beyo...</td>\n",
              "      <td>0</td>\n",
              "    </tr>\n",
              "    <tr>\n",
              "      <th>1</th>\n",
              "      <td>$CCL $RCL - Nomura points to bookings weakness...</td>\n",
              "      <td>0</td>\n",
              "    </tr>\n",
              "    <tr>\n",
              "      <th>2</th>\n",
              "      <td>$CX - Cemex cut at Credit Suisse, J.P. Morgan ...</td>\n",
              "      <td>0</td>\n",
              "    </tr>\n",
              "    <tr>\n",
              "      <th>3</th>\n",
              "      <td>$ESS: BTIG Research cuts to Neutral https://t....</td>\n",
              "      <td>0</td>\n",
              "    </tr>\n",
              "    <tr>\n",
              "      <th>4</th>\n",
              "      <td>$FNKO - Funko slides after Piper Jaffray PT cu...</td>\n",
              "      <td>0</td>\n",
              "    </tr>\n",
              "    <tr>\n",
              "      <th>5</th>\n",
              "      <td>$FTI - TechnipFMC downgraded at Berenberg but ...</td>\n",
              "      <td>0</td>\n",
              "    </tr>\n",
              "    <tr>\n",
              "      <th>6</th>\n",
              "      <td>$GM - GM loses a bull https://t.co/tdUfG5HbXy</td>\n",
              "      <td>0</td>\n",
              "    </tr>\n",
              "    <tr>\n",
              "      <th>7</th>\n",
              "      <td>$GM: Deutsche Bank cuts to Hold https://t.co/7...</td>\n",
              "      <td>0</td>\n",
              "    </tr>\n",
              "    <tr>\n",
              "      <th>8</th>\n",
              "      <td>$GTT: Cowen cuts to Market Perform</td>\n",
              "      <td>0</td>\n",
              "    </tr>\n",
              "    <tr>\n",
              "      <th>9</th>\n",
              "      <td>$HNHAF $HNHPD $AAPL - Trendforce cuts iPhone e...</td>\n",
              "      <td>0</td>\n",
              "    </tr>\n",
              "    <tr>\n",
              "      <th>10</th>\n",
              "      <td>$HOG - Moody's warns on Harley-Davidson https:...</td>\n",
              "      <td>0</td>\n",
              "    </tr>\n",
              "    <tr>\n",
              "      <th>11</th>\n",
              "      <td>$HXL - Citing aero ties, Wells slashes PT on H...</td>\n",
              "      <td>0</td>\n",
              "    </tr>\n",
              "    <tr>\n",
              "      <th>12</th>\n",
              "      <td>$I - Intelsat cut to Market Perform at Raymond...</td>\n",
              "      <td>0</td>\n",
              "    </tr>\n",
              "    <tr>\n",
              "      <th>13</th>\n",
              "      <td>$KRG: Compass Point cuts to Sell https://t.co/...</td>\n",
              "      <td>0</td>\n",
              "    </tr>\n",
              "    <tr>\n",
              "      <th>14</th>\n",
              "      <td>$LK - Muddy Waters goes short Luckin Coffee ht...</td>\n",
              "      <td>0</td>\n",
              "    </tr>\n",
              "    <tr>\n",
              "      <th>15</th>\n",
              "      <td>$MANT - ManTech downgraded ahead of difficult ...</td>\n",
              "      <td>0</td>\n",
              "    </tr>\n",
              "    <tr>\n",
              "      <th>16</th>\n",
              "      <td>$MDCO: Oppenheimer cuts to Perform</td>\n",
              "      <td>0</td>\n",
              "    </tr>\n",
              "    <tr>\n",
              "      <th>17</th>\n",
              "      <td>$MPLX $MPC - MPLX cut at Credit Suisse on pote...</td>\n",
              "      <td>0</td>\n",
              "    </tr>\n",
              "    <tr>\n",
              "      <th>18</th>\n",
              "      <td>$MSGN - Imperial downgrades MSG Networks amid ...</td>\n",
              "      <td>0</td>\n",
              "    </tr>\n",
              "    <tr>\n",
              "      <th>19</th>\n",
              "      <td>$MTLS - Piper hits the Materialise sidelines h...</td>\n",
              "      <td>0</td>\n",
              "    </tr>\n",
              "  </tbody>\n",
              "</table>\n",
              "</div>\n",
              "    <div class=\"colab-df-buttons\">\n",
              "\n",
              "  <div class=\"colab-df-container\">\n",
              "    <button class=\"colab-df-convert\" onclick=\"convertToInteractive('df-445bfb5f-4126-4b95-8076-145750a48900')\"\n",
              "            title=\"Convert this dataframe to an interactive table.\"\n",
              "            style=\"display:none;\">\n",
              "\n",
              "  <svg xmlns=\"http://www.w3.org/2000/svg\" height=\"24px\" viewBox=\"0 -960 960 960\">\n",
              "    <path d=\"M120-120v-720h720v720H120Zm60-500h600v-160H180v160Zm220 220h160v-160H400v160Zm0 220h160v-160H400v160ZM180-400h160v-160H180v160Zm440 0h160v-160H620v160ZM180-180h160v-160H180v160Zm440 0h160v-160H620v160Z\"/>\n",
              "  </svg>\n",
              "    </button>\n",
              "\n",
              "  <style>\n",
              "    .colab-df-container {\n",
              "      display:flex;\n",
              "      gap: 12px;\n",
              "    }\n",
              "\n",
              "    .colab-df-convert {\n",
              "      background-color: #E8F0FE;\n",
              "      border: none;\n",
              "      border-radius: 50%;\n",
              "      cursor: pointer;\n",
              "      display: none;\n",
              "      fill: #1967D2;\n",
              "      height: 32px;\n",
              "      padding: 0 0 0 0;\n",
              "      width: 32px;\n",
              "    }\n",
              "\n",
              "    .colab-df-convert:hover {\n",
              "      background-color: #E2EBFA;\n",
              "      box-shadow: 0px 1px 2px rgba(60, 64, 67, 0.3), 0px 1px 3px 1px rgba(60, 64, 67, 0.15);\n",
              "      fill: #174EA6;\n",
              "    }\n",
              "\n",
              "    .colab-df-buttons div {\n",
              "      margin-bottom: 4px;\n",
              "    }\n",
              "\n",
              "    [theme=dark] .colab-df-convert {\n",
              "      background-color: #3B4455;\n",
              "      fill: #D2E3FC;\n",
              "    }\n",
              "\n",
              "    [theme=dark] .colab-df-convert:hover {\n",
              "      background-color: #434B5C;\n",
              "      box-shadow: 0px 1px 3px 1px rgba(0, 0, 0, 0.15);\n",
              "      filter: drop-shadow(0px 1px 2px rgba(0, 0, 0, 0.3));\n",
              "      fill: #FFFFFF;\n",
              "    }\n",
              "  </style>\n",
              "\n",
              "    <script>\n",
              "      const buttonEl =\n",
              "        document.querySelector('#df-445bfb5f-4126-4b95-8076-145750a48900 button.colab-df-convert');\n",
              "      buttonEl.style.display =\n",
              "        google.colab.kernel.accessAllowed ? 'block' : 'none';\n",
              "\n",
              "      async function convertToInteractive(key) {\n",
              "        const element = document.querySelector('#df-445bfb5f-4126-4b95-8076-145750a48900');\n",
              "        const dataTable =\n",
              "          await google.colab.kernel.invokeFunction('convertToInteractive',\n",
              "                                                    [key], {});\n",
              "        if (!dataTable) return;\n",
              "\n",
              "        const docLinkHtml = 'Like what you see? Visit the ' +\n",
              "          '<a target=\"_blank\" href=https://colab.research.google.com/notebooks/data_table.ipynb>data table notebook</a>'\n",
              "          + ' to learn more about interactive tables.';\n",
              "        element.innerHTML = '';\n",
              "        dataTable['output_type'] = 'display_data';\n",
              "        await google.colab.output.renderOutput(dataTable, element);\n",
              "        const docLink = document.createElement('div');\n",
              "        docLink.innerHTML = docLinkHtml;\n",
              "        element.appendChild(docLink);\n",
              "      }\n",
              "    </script>\n",
              "  </div>\n",
              "\n",
              "\n",
              "    <div id=\"df-ec0e5cc0-1d48-4062-8741-a660e5d39775\">\n",
              "      <button class=\"colab-df-quickchart\" onclick=\"quickchart('df-ec0e5cc0-1d48-4062-8741-a660e5d39775')\"\n",
              "                title=\"Suggest charts\"\n",
              "                style=\"display:none;\">\n",
              "\n",
              "<svg xmlns=\"http://www.w3.org/2000/svg\" height=\"24px\"viewBox=\"0 0 24 24\"\n",
              "     width=\"24px\">\n",
              "    <g>\n",
              "        <path d=\"M19 3H5c-1.1 0-2 .9-2 2v14c0 1.1.9 2 2 2h14c1.1 0 2-.9 2-2V5c0-1.1-.9-2-2-2zM9 17H7v-7h2v7zm4 0h-2V7h2v10zm4 0h-2v-4h2v4z\"/>\n",
              "    </g>\n",
              "</svg>\n",
              "      </button>\n",
              "\n",
              "<style>\n",
              "  .colab-df-quickchart {\n",
              "      --bg-color: #E8F0FE;\n",
              "      --fill-color: #1967D2;\n",
              "      --hover-bg-color: #E2EBFA;\n",
              "      --hover-fill-color: #174EA6;\n",
              "      --disabled-fill-color: #AAA;\n",
              "      --disabled-bg-color: #DDD;\n",
              "  }\n",
              "\n",
              "  [theme=dark] .colab-df-quickchart {\n",
              "      --bg-color: #3B4455;\n",
              "      --fill-color: #D2E3FC;\n",
              "      --hover-bg-color: #434B5C;\n",
              "      --hover-fill-color: #FFFFFF;\n",
              "      --disabled-bg-color: #3B4455;\n",
              "      --disabled-fill-color: #666;\n",
              "  }\n",
              "\n",
              "  .colab-df-quickchart {\n",
              "    background-color: var(--bg-color);\n",
              "    border: none;\n",
              "    border-radius: 50%;\n",
              "    cursor: pointer;\n",
              "    display: none;\n",
              "    fill: var(--fill-color);\n",
              "    height: 32px;\n",
              "    padding: 0;\n",
              "    width: 32px;\n",
              "  }\n",
              "\n",
              "  .colab-df-quickchart:hover {\n",
              "    background-color: var(--hover-bg-color);\n",
              "    box-shadow: 0 1px 2px rgba(60, 64, 67, 0.3), 0 1px 3px 1px rgba(60, 64, 67, 0.15);\n",
              "    fill: var(--button-hover-fill-color);\n",
              "  }\n",
              "\n",
              "  .colab-df-quickchart-complete:disabled,\n",
              "  .colab-df-quickchart-complete:disabled:hover {\n",
              "    background-color: var(--disabled-bg-color);\n",
              "    fill: var(--disabled-fill-color);\n",
              "    box-shadow: none;\n",
              "  }\n",
              "\n",
              "  .colab-df-spinner {\n",
              "    border: 2px solid var(--fill-color);\n",
              "    border-color: transparent;\n",
              "    border-bottom-color: var(--fill-color);\n",
              "    animation:\n",
              "      spin 1s steps(1) infinite;\n",
              "  }\n",
              "\n",
              "  @keyframes spin {\n",
              "    0% {\n",
              "      border-color: transparent;\n",
              "      border-bottom-color: var(--fill-color);\n",
              "      border-left-color: var(--fill-color);\n",
              "    }\n",
              "    20% {\n",
              "      border-color: transparent;\n",
              "      border-left-color: var(--fill-color);\n",
              "      border-top-color: var(--fill-color);\n",
              "    }\n",
              "    30% {\n",
              "      border-color: transparent;\n",
              "      border-left-color: var(--fill-color);\n",
              "      border-top-color: var(--fill-color);\n",
              "      border-right-color: var(--fill-color);\n",
              "    }\n",
              "    40% {\n",
              "      border-color: transparent;\n",
              "      border-right-color: var(--fill-color);\n",
              "      border-top-color: var(--fill-color);\n",
              "    }\n",
              "    60% {\n",
              "      border-color: transparent;\n",
              "      border-right-color: var(--fill-color);\n",
              "    }\n",
              "    80% {\n",
              "      border-color: transparent;\n",
              "      border-right-color: var(--fill-color);\n",
              "      border-bottom-color: var(--fill-color);\n",
              "    }\n",
              "    90% {\n",
              "      border-color: transparent;\n",
              "      border-bottom-color: var(--fill-color);\n",
              "    }\n",
              "  }\n",
              "</style>\n",
              "\n",
              "      <script>\n",
              "        async function quickchart(key) {\n",
              "          const quickchartButtonEl =\n",
              "            document.querySelector('#' + key + ' button');\n",
              "          quickchartButtonEl.disabled = true;  // To prevent multiple clicks.\n",
              "          quickchartButtonEl.classList.add('colab-df-spinner');\n",
              "          try {\n",
              "            const charts = await google.colab.kernel.invokeFunction(\n",
              "                'suggestCharts', [key], {});\n",
              "          } catch (error) {\n",
              "            console.error('Error during call to suggestCharts:', error);\n",
              "          }\n",
              "          quickchartButtonEl.classList.remove('colab-df-spinner');\n",
              "          quickchartButtonEl.classList.add('colab-df-quickchart-complete');\n",
              "        }\n",
              "        (() => {\n",
              "          let quickchartButtonEl =\n",
              "            document.querySelector('#df-ec0e5cc0-1d48-4062-8741-a660e5d39775 button');\n",
              "          quickchartButtonEl.style.display =\n",
              "            google.colab.kernel.accessAllowed ? 'block' : 'none';\n",
              "        })();\n",
              "      </script>\n",
              "    </div>\n",
              "\n",
              "    </div>\n",
              "  </div>\n"
            ],
            "application/vnd.google.colaboratory.intrinsic+json": {
              "type": "dataframe",
              "variable_name": "df",
              "summary": "{\n  \"name\": \"df\",\n  \"rows\": 9543,\n  \"fields\": [\n    {\n      \"column\": \"text\",\n      \"properties\": {\n        \"dtype\": \"string\",\n        \"num_unique_values\": 9543,\n        \"samples\": [\n          \"When staffers in WeWork's New York City headquarters received a calendar invite for a mandatory meeting with a note\\u2026 https://t.co/dB8igjtRCt\",\n          \"ADMA Biologics down 9% premarket after pricing equity offering\",\n          \"Illegal Tender podcast: What it was like to befriend convicted socialite scammer Anna Delvey\"\n        ],\n        \"semantic_type\": \"\",\n        \"description\": \"\"\n      }\n    },\n    {\n      \"column\": \"label\",\n      \"properties\": {\n        \"dtype\": \"number\",\n        \"std\": 0,\n        \"min\": 0,\n        \"max\": 2,\n        \"num_unique_values\": 3,\n        \"samples\": [\n          0,\n          1,\n          2\n        ],\n        \"semantic_type\": \"\",\n        \"description\": \"\"\n      }\n    }\n  ]\n}"
            }
          },
          "metadata": {},
          "execution_count": 40
        }
      ],
      "source": [
        "df.head(20)"
      ]
    },
    {
      "cell_type": "markdown",
      "id": "bf4ce821",
      "metadata": {
        "id": "bf4ce821"
      },
      "source": [
        "`Step 4` Check the number of rows and columns of the data frame."
      ]
    },
    {
      "cell_type": "code",
      "execution_count": null,
      "id": "fb33e18d",
      "metadata": {
        "id": "fb33e18d",
        "outputId": "fc77d9b7-5dc4-4985-dbc9-2153671f1f07",
        "colab": {
          "base_uri": "https://localhost:8080/"
        }
      },
      "outputs": [
        {
          "output_type": "execute_result",
          "data": {
            "text/plain": [
              "(9543, 2)"
            ]
          },
          "metadata": {},
          "execution_count": 41
        }
      ],
      "source": [
        "df.shape"
      ]
    },
    {
      "cell_type": "markdown",
      "id": "241702d6",
      "metadata": {
        "id": "241702d6"
      },
      "source": [
        "`Step 5` Check the features data types and info."
      ]
    },
    {
      "cell_type": "code",
      "execution_count": null,
      "id": "c05eb3a7",
      "metadata": {
        "id": "c05eb3a7",
        "outputId": "5c6f640b-67ba-4dee-b521-06f0895f7ab0",
        "colab": {
          "base_uri": "https://localhost:8080/",
          "height": 147
        }
      },
      "outputs": [
        {
          "output_type": "execute_result",
          "data": {
            "text/plain": [
              "text     object\n",
              "label     int64\n",
              "dtype: object"
            ],
            "text/html": [
              "<div>\n",
              "<style scoped>\n",
              "    .dataframe tbody tr th:only-of-type {\n",
              "        vertical-align: middle;\n",
              "    }\n",
              "\n",
              "    .dataframe tbody tr th {\n",
              "        vertical-align: top;\n",
              "    }\n",
              "\n",
              "    .dataframe thead th {\n",
              "        text-align: right;\n",
              "    }\n",
              "</style>\n",
              "<table border=\"1\" class=\"dataframe\">\n",
              "  <thead>\n",
              "    <tr style=\"text-align: right;\">\n",
              "      <th></th>\n",
              "      <th>0</th>\n",
              "    </tr>\n",
              "  </thead>\n",
              "  <tbody>\n",
              "    <tr>\n",
              "      <th>text</th>\n",
              "      <td>object</td>\n",
              "    </tr>\n",
              "    <tr>\n",
              "      <th>label</th>\n",
              "      <td>int64</td>\n",
              "    </tr>\n",
              "  </tbody>\n",
              "</table>\n",
              "</div><br><label><b>dtype:</b> object</label>"
            ]
          },
          "metadata": {},
          "execution_count": 42
        }
      ],
      "source": [
        "df.dtypes"
      ]
    },
    {
      "cell_type": "code",
      "execution_count": null,
      "id": "8b5ba76a",
      "metadata": {
        "id": "8b5ba76a",
        "outputId": "ec3e3588-b73e-4610-8eb6-4b08875756e9",
        "colab": {
          "base_uri": "https://localhost:8080/"
        }
      },
      "outputs": [
        {
          "output_type": "stream",
          "name": "stdout",
          "text": [
            "<class 'pandas.core.frame.DataFrame'>\n",
            "RangeIndex: 9543 entries, 0 to 9542\n",
            "Data columns (total 2 columns):\n",
            " #   Column  Non-Null Count  Dtype \n",
            "---  ------  --------------  ----- \n",
            " 0   text    9543 non-null   object\n",
            " 1   label   9543 non-null   int64 \n",
            "dtypes: int64(1), object(1)\n",
            "memory usage: 149.2+ KB\n"
          ]
        }
      ],
      "source": [
        "df.info()"
      ]
    },
    {
      "cell_type": "markdown",
      "id": "9165106e",
      "metadata": {
        "id": "9165106e"
      },
      "source": [
        "#### Conclusions\n",
        "- Our data is composed of **9543** observations and **2** columns. <br>\n",
        "- Variable text is object and variable label is an integer as expected. <br>\n",
        "- There are no null values in the observations. <br>\n",
        "- Our tweets have a lot of \"noise\" letters and symbols like hashtags, dollar signs, links, punctuation and numbers. This should be adressed later on."
      ]
    },
    {
      "cell_type": "markdown",
      "id": "f875f2f4",
      "metadata": {
        "id": "f875f2f4"
      },
      "source": [
        "# 4. Data Exploration"
      ]
    },
    {
      "cell_type": "markdown",
      "id": "8d9142eb",
      "metadata": {
        "id": "8d9142eb"
      },
      "source": [
        "`Step 6` Defining the colors to use in our visualizations for consistent representation (NOVA IMS official colors)."
      ]
    },
    {
      "cell_type": "code",
      "execution_count": null,
      "id": "1d25a88a",
      "metadata": {
        "id": "1d25a88a"
      },
      "outputs": [],
      "source": [
        "# color_390 = (190/255, 214/255, 47/255)  # Pantone 390 C\n",
        "# color_431 = (92/255, 102/255, 108/255)  # Pantone 431 C"
      ]
    },
    {
      "cell_type": "markdown",
      "id": "4cae7a57",
      "metadata": {
        "id": "4cae7a57"
      },
      "source": [
        "## 4.1. Class Distribution"
      ]
    },
    {
      "cell_type": "markdown",
      "id": "474713b6",
      "metadata": {
        "id": "474713b6"
      },
      "source": [
        "`Step 7` Check Class Distribution (plot and percentage)."
      ]
    },
    {
      "cell_type": "code",
      "execution_count": null,
      "id": "8ae9276a",
      "metadata": {
        "id": "8ae9276a"
      },
      "outputs": [],
      "source": [
        "# sns.countplot(data=df, x='label', color=color_390, edgecolor=color_431)\n",
        "# plt.title(\"Sentiment Label Distribution\")\n",
        "# plt.xticks([0, 1, 2], ['Bearish', 'Bullish', 'Neutral'])\n",
        "# plt.show()\n",
        "\n",
        "# print(df['label'].value_counts(normalize=True) * 100)"
      ]
    },
    {
      "cell_type": "markdown",
      "id": "7c8ef9c2",
      "metadata": {
        "id": "7c8ef9c2"
      },
      "source": [
        "- We can see that our labels are unbalanced, more than 60% is classified as \"Neutral\", 20% as \"Bullish\" and 15% as \"Bearish\"."
      ]
    },
    {
      "cell_type": "markdown",
      "id": "e6c5affe",
      "metadata": {
        "id": "e6c5affe"
      },
      "source": [
        "## 4.2. Text Length"
      ]
    },
    {
      "cell_type": "markdown",
      "id": "0edf0c91",
      "metadata": {
        "id": "0edf0c91"
      },
      "source": [
        "`Step 8` Check Text Length of the tweets per label."
      ]
    },
    {
      "cell_type": "code",
      "execution_count": null,
      "id": "7f723e08",
      "metadata": {
        "id": "7f723e08"
      },
      "outputs": [],
      "source": [
        "# df['text_length'] = df['text'].apply(len)\n",
        "\n",
        "# sns.histplot(df['text_length'], bins=30, kde=True, color=color_390, edgecolor=color_431)\n",
        "# plt.title(\"Distribution of Tweet Lengths\")\n",
        "# plt.xlabel(\"Length of Tweet\")\n",
        "# plt.show()\n",
        "\n",
        "# # Grouped by label\n",
        "# sns.boxplot(data=df, x='label', y='text_length', color=color_390)\n",
        "# plt.xticks([0, 1, 2], ['Bearish', 'Bullish', 'Neutral'])\n",
        "# plt.title(\"Tweet Length by Sentiment\")\n",
        "# plt.show()"
      ]
    },
    {
      "cell_type": "markdown",
      "id": "e8e60398",
      "metadata": {
        "id": "e8e60398"
      },
      "source": [
        "- The different labels have a simillar distribution in terms of tweet length. <br>\n",
        "- The tweets length are distributed in a normal distribution with two peaks at length between 60-65 and 140-145. <br>\n",
        "- There are a lot of tweets (approximately 1000) with length between 60-65, and around 900 with length between 140-145. This represents approximately 19% of the data."
      ]
    },
    {
      "cell_type": "markdown",
      "id": "7ec866bc",
      "metadata": {
        "id": "7ec866bc"
      },
      "source": [
        "## 4.3. Data Manipulation for Further Exploration"
      ]
    },
    {
      "cell_type": "markdown",
      "id": "e85aaa9a",
      "metadata": {
        "id": "e85aaa9a"
      },
      "source": [
        "- We want to check the most frequent words per label and the word clouds for each label. At this point our data is raw and we wouldn't get significant analysis. <br>\n",
        "- For that reason in this section we will copy our dataset in order to do a small preprocessing (tokenize) and then perform the desired analysis. <br>\n",
        "- After this data manipulation and the referred two analysis we will continue our work with corpus split and data preprocessing from the original dataset."
      ]
    },
    {
      "cell_type": "markdown",
      "id": "3aa97a07",
      "metadata": {
        "id": "3aa97a07"
      },
      "source": [
        "`Step 9` Using a copy of our dataset we tokenize the tweets in order to have a more accurate analysis."
      ]
    },
    {
      "cell_type": "code",
      "execution_count": null,
      "id": "f3aae5e9",
      "metadata": {
        "id": "f3aae5e9"
      },
      "outputs": [],
      "source": [
        "# df_copy = deepcopy(df)\n",
        "\n",
        "# stop_words = set(stopwords.words('english'))\n",
        "\n",
        "# # Preprocessing: basic cleaning and tokenization\n",
        "# def clean_and_tokenize(text):\n",
        "#     text = re.sub(r\"http\\S+|@\\S+|[^a-zA-Z\\s]\", \"\", text)\n",
        "#     text = text.lower()\n",
        "#     tokens = text.split()\n",
        "#     tokens = [word for word in tokens if word not in stop_words and len(word) > 1]\n",
        "#     return tokens\n",
        "\n",
        "# df_copy['tokens'] = df_copy['text'].apply(clean_and_tokenize)\n",
        "\n",
        "# df_copy"
      ]
    },
    {
      "cell_type": "markdown",
      "id": "85e50cd0",
      "metadata": {
        "id": "85e50cd0"
      },
      "source": [
        "## 4.4. Most Frequent Words per Label"
      ]
    },
    {
      "cell_type": "markdown",
      "id": "84fb3ea9",
      "metadata": {
        "id": "84fb3ea9"
      },
      "source": [
        "`Step 10` Check top 10 most frequent words per label."
      ]
    },
    {
      "cell_type": "code",
      "execution_count": null,
      "id": "34218cb1",
      "metadata": {
        "id": "34218cb1"
      },
      "outputs": [],
      "source": [
        "# # Map labels to names\n",
        "# label_names = {0: 'Bearish', 1: 'Bullish', 2: 'Neutral'}\n",
        "\n",
        "# # Show top 10 words per label\n",
        "# def get_top_words(df, label, top_n=10):\n",
        "#     all_words = [word for tokens in df[df['label'] == label]['tokens'] for word in tokens]\n",
        "#     most_common = Counter(all_words).most_common(top_n)\n",
        "\n",
        "#     print(f\"\\nTop {top_n} words for {label_names[label]} tweets:\")\n",
        "#     for word, count in most_common:\n",
        "#         print(f\"{word}: {count}\")\n",
        "\n",
        "#     # Plot\n",
        "#     words, counts = zip(*most_common)\n",
        "#     plt.figure(figsize=(10, 5))\n",
        "#     sns.barplot(x=list(counts), y=list(words), color=color_390)\n",
        "#     plt.title(f\"Top {top_n} Words - {label_names[label]}\")\n",
        "#     plt.xlabel(\"Frequency\")\n",
        "#     plt.ylabel(\"Words\")\n",
        "#     plt.tight_layout()\n",
        "#     plt.show()\n",
        "\n",
        "# # Loop through each label\n",
        "# for label in sorted(df_copy['label'].unique()):\n",
        "#     get_top_words(df_copy, label, top_n=10)"
      ]
    },
    {
      "cell_type": "code",
      "execution_count": null,
      "id": "18ba6714",
      "metadata": {
        "id": "18ba6714"
      },
      "outputs": [],
      "source": [
        "# df_copy.text_length.describe()"
      ]
    },
    {
      "cell_type": "markdown",
      "id": "7f377951",
      "metadata": {
        "id": "7f377951"
      },
      "source": [
        "- All three labels have the same most common word as \"stock\" but also a good amount of the plural \"stocks\". <br>\n",
        "- \"us\" also have a good representation in all the 3 labels. <br>\n",
        "- Even though there is a significance difference between labels there are still some common words between them. <br>\n",
        "- Neutral tweets don't have such a big gap between the top 5 most common words, which makes the words distribution more balanced. <br>\n",
        "- The largest tweet have 190 words while the smallest one have 2. <br>\n",
        "- In average the tweets have around 79 words."
      ]
    },
    {
      "cell_type": "markdown",
      "id": "3767941c",
      "metadata": {
        "id": "3767941c"
      },
      "source": [
        "## 4.5. Word Cloud by Label"
      ]
    },
    {
      "cell_type": "markdown",
      "id": "23af2e39",
      "metadata": {
        "id": "23af2e39"
      },
      "source": [
        "`Step 11` Check Word Cloud of the different labels."
      ]
    },
    {
      "cell_type": "code",
      "execution_count": null,
      "id": "eaf6b409",
      "metadata": {
        "id": "eaf6b409"
      },
      "outputs": [],
      "source": [
        "# def plot_wordcloud(df, label, label_names):\n",
        "#     # Combine all tokens into one string\n",
        "#     text = \" \".join(df[df['label'] == label]['tokens'].sum())\n",
        "\n",
        "#     # Generate word cloud\n",
        "#     wordcloud = WordCloud(width=800, height=400, background_color='white',\n",
        "#                           colormap='viridis').generate(text)\n",
        "\n",
        "#     print(f\"Word cloud for {label_names[label]} label:\")\n",
        "\n",
        "#     plt.figure(figsize=(10, 5))\n",
        "#     plt.imshow(wordcloud, interpolation='bilinear')\n",
        "#     plt.axis('off')\n",
        "#     plt.tight_layout()\n",
        "#     plt.show()\n",
        "\n",
        "# # Generate word clouds for each label\n",
        "# for label in sorted(df_copy['label'].unique()):\n",
        "#     plot_wordcloud(df_copy, label, label_names)"
      ]
    },
    {
      "cell_type": "markdown",
      "id": "daeaf120",
      "metadata": {
        "id": "daeaf120"
      },
      "source": [
        "- As previously observed, “stock” appears as the most prominent word across all sentiment labels. However, in the Neutral label, it stands out less clearly due to a more even distribution among the top words. <br>\n",
        "- Overall, the Neutral label exhibits a more balanced word frequency distribution compared to the Bearish and Bullish labels. This aligns with expectations: neutral tweets typically lack strong sentiment indicators, resulting in fewer dominant or sentiment-specific keywords that clearly classify the text as bullish or bearish."
      ]
    },
    {
      "cell_type": "markdown",
      "id": "ecf5873b",
      "metadata": {
        "id": "ecf5873b"
      },
      "source": [
        "# 5. Corpus Split"
      ]
    },
    {
      "cell_type": "markdown",
      "id": "104a12e5",
      "metadata": {
        "id": "104a12e5"
      },
      "source": [
        "- Since our corpus have less than 10000 rows we would split it in train, validation and test in a 80%/10%/10% split. In our project we have a separate test csv file therefore we'll use it as our test. We will split this data in train and validation in a 80%/20% split."
      ]
    },
    {
      "cell_type": "markdown",
      "id": "56dd687b",
      "metadata": {
        "id": "56dd687b"
      },
      "source": [
        "`Step 12` Create a copy of the original dataframe named **data**."
      ]
    },
    {
      "cell_type": "code",
      "execution_count": null,
      "id": "84dff51f",
      "metadata": {
        "colab": {
          "base_uri": "https://localhost:8080/",
          "height": 424
        },
        "id": "84dff51f",
        "outputId": "ac9d1869-7733-4333-8f91-5d0299237feb"
      },
      "outputs": [
        {
          "output_type": "execute_result",
          "data": {
            "text/plain": [
              "                                                   text  label\n",
              "0     $BYND - JPMorgan reels in expectations on Beyo...      0\n",
              "1     $CCL $RCL - Nomura points to bookings weakness...      0\n",
              "2     $CX - Cemex cut at Credit Suisse, J.P. Morgan ...      0\n",
              "3     $ESS: BTIG Research cuts to Neutral https://t....      0\n",
              "4     $FNKO - Funko slides after Piper Jaffray PT cu...      0\n",
              "...                                                 ...    ...\n",
              "9538  The Week's Gainers and Losers on the Stoxx Eur...      2\n",
              "9539  Tupperware Brands among consumer gainers; Unil...      2\n",
              "9540  vTv Therapeutics leads healthcare gainers; Myo...      2\n",
              "9541    WORK, XPO, PYX and AMKR among after hour movers      2\n",
              "9542             YNDX, I, QD and OESX among tech movers      2\n",
              "\n",
              "[9543 rows x 2 columns]"
            ],
            "text/html": [
              "\n",
              "  <div id=\"df-42b7f37e-ff85-4760-b5b1-b363fbd73949\" class=\"colab-df-container\">\n",
              "    <div>\n",
              "<style scoped>\n",
              "    .dataframe tbody tr th:only-of-type {\n",
              "        vertical-align: middle;\n",
              "    }\n",
              "\n",
              "    .dataframe tbody tr th {\n",
              "        vertical-align: top;\n",
              "    }\n",
              "\n",
              "    .dataframe thead th {\n",
              "        text-align: right;\n",
              "    }\n",
              "</style>\n",
              "<table border=\"1\" class=\"dataframe\">\n",
              "  <thead>\n",
              "    <tr style=\"text-align: right;\">\n",
              "      <th></th>\n",
              "      <th>text</th>\n",
              "      <th>label</th>\n",
              "    </tr>\n",
              "  </thead>\n",
              "  <tbody>\n",
              "    <tr>\n",
              "      <th>0</th>\n",
              "      <td>$BYND - JPMorgan reels in expectations on Beyo...</td>\n",
              "      <td>0</td>\n",
              "    </tr>\n",
              "    <tr>\n",
              "      <th>1</th>\n",
              "      <td>$CCL $RCL - Nomura points to bookings weakness...</td>\n",
              "      <td>0</td>\n",
              "    </tr>\n",
              "    <tr>\n",
              "      <th>2</th>\n",
              "      <td>$CX - Cemex cut at Credit Suisse, J.P. Morgan ...</td>\n",
              "      <td>0</td>\n",
              "    </tr>\n",
              "    <tr>\n",
              "      <th>3</th>\n",
              "      <td>$ESS: BTIG Research cuts to Neutral https://t....</td>\n",
              "      <td>0</td>\n",
              "    </tr>\n",
              "    <tr>\n",
              "      <th>4</th>\n",
              "      <td>$FNKO - Funko slides after Piper Jaffray PT cu...</td>\n",
              "      <td>0</td>\n",
              "    </tr>\n",
              "    <tr>\n",
              "      <th>...</th>\n",
              "      <td>...</td>\n",
              "      <td>...</td>\n",
              "    </tr>\n",
              "    <tr>\n",
              "      <th>9538</th>\n",
              "      <td>The Week's Gainers and Losers on the Stoxx Eur...</td>\n",
              "      <td>2</td>\n",
              "    </tr>\n",
              "    <tr>\n",
              "      <th>9539</th>\n",
              "      <td>Tupperware Brands among consumer gainers; Unil...</td>\n",
              "      <td>2</td>\n",
              "    </tr>\n",
              "    <tr>\n",
              "      <th>9540</th>\n",
              "      <td>vTv Therapeutics leads healthcare gainers; Myo...</td>\n",
              "      <td>2</td>\n",
              "    </tr>\n",
              "    <tr>\n",
              "      <th>9541</th>\n",
              "      <td>WORK, XPO, PYX and AMKR among after hour movers</td>\n",
              "      <td>2</td>\n",
              "    </tr>\n",
              "    <tr>\n",
              "      <th>9542</th>\n",
              "      <td>YNDX, I, QD and OESX among tech movers</td>\n",
              "      <td>2</td>\n",
              "    </tr>\n",
              "  </tbody>\n",
              "</table>\n",
              "<p>9543 rows × 2 columns</p>\n",
              "</div>\n",
              "    <div class=\"colab-df-buttons\">\n",
              "\n",
              "  <div class=\"colab-df-container\">\n",
              "    <button class=\"colab-df-convert\" onclick=\"convertToInteractive('df-42b7f37e-ff85-4760-b5b1-b363fbd73949')\"\n",
              "            title=\"Convert this dataframe to an interactive table.\"\n",
              "            style=\"display:none;\">\n",
              "\n",
              "  <svg xmlns=\"http://www.w3.org/2000/svg\" height=\"24px\" viewBox=\"0 -960 960 960\">\n",
              "    <path d=\"M120-120v-720h720v720H120Zm60-500h600v-160H180v160Zm220 220h160v-160H400v160Zm0 220h160v-160H400v160ZM180-400h160v-160H180v160Zm440 0h160v-160H620v160ZM180-180h160v-160H180v160Zm440 0h160v-160H620v160Z\"/>\n",
              "  </svg>\n",
              "    </button>\n",
              "\n",
              "  <style>\n",
              "    .colab-df-container {\n",
              "      display:flex;\n",
              "      gap: 12px;\n",
              "    }\n",
              "\n",
              "    .colab-df-convert {\n",
              "      background-color: #E8F0FE;\n",
              "      border: none;\n",
              "      border-radius: 50%;\n",
              "      cursor: pointer;\n",
              "      display: none;\n",
              "      fill: #1967D2;\n",
              "      height: 32px;\n",
              "      padding: 0 0 0 0;\n",
              "      width: 32px;\n",
              "    }\n",
              "\n",
              "    .colab-df-convert:hover {\n",
              "      background-color: #E2EBFA;\n",
              "      box-shadow: 0px 1px 2px rgba(60, 64, 67, 0.3), 0px 1px 3px 1px rgba(60, 64, 67, 0.15);\n",
              "      fill: #174EA6;\n",
              "    }\n",
              "\n",
              "    .colab-df-buttons div {\n",
              "      margin-bottom: 4px;\n",
              "    }\n",
              "\n",
              "    [theme=dark] .colab-df-convert {\n",
              "      background-color: #3B4455;\n",
              "      fill: #D2E3FC;\n",
              "    }\n",
              "\n",
              "    [theme=dark] .colab-df-convert:hover {\n",
              "      background-color: #434B5C;\n",
              "      box-shadow: 0px 1px 3px 1px rgba(0, 0, 0, 0.15);\n",
              "      filter: drop-shadow(0px 1px 2px rgba(0, 0, 0, 0.3));\n",
              "      fill: #FFFFFF;\n",
              "    }\n",
              "  </style>\n",
              "\n",
              "    <script>\n",
              "      const buttonEl =\n",
              "        document.querySelector('#df-42b7f37e-ff85-4760-b5b1-b363fbd73949 button.colab-df-convert');\n",
              "      buttonEl.style.display =\n",
              "        google.colab.kernel.accessAllowed ? 'block' : 'none';\n",
              "\n",
              "      async function convertToInteractive(key) {\n",
              "        const element = document.querySelector('#df-42b7f37e-ff85-4760-b5b1-b363fbd73949');\n",
              "        const dataTable =\n",
              "          await google.colab.kernel.invokeFunction('convertToInteractive',\n",
              "                                                    [key], {});\n",
              "        if (!dataTable) return;\n",
              "\n",
              "        const docLinkHtml = 'Like what you see? Visit the ' +\n",
              "          '<a target=\"_blank\" href=https://colab.research.google.com/notebooks/data_table.ipynb>data table notebook</a>'\n",
              "          + ' to learn more about interactive tables.';\n",
              "        element.innerHTML = '';\n",
              "        dataTable['output_type'] = 'display_data';\n",
              "        await google.colab.output.renderOutput(dataTable, element);\n",
              "        const docLink = document.createElement('div');\n",
              "        docLink.innerHTML = docLinkHtml;\n",
              "        element.appendChild(docLink);\n",
              "      }\n",
              "    </script>\n",
              "  </div>\n",
              "\n",
              "\n",
              "    <div id=\"df-b535c674-cc18-492b-a637-c31ed3815b0b\">\n",
              "      <button class=\"colab-df-quickchart\" onclick=\"quickchart('df-b535c674-cc18-492b-a637-c31ed3815b0b')\"\n",
              "                title=\"Suggest charts\"\n",
              "                style=\"display:none;\">\n",
              "\n",
              "<svg xmlns=\"http://www.w3.org/2000/svg\" height=\"24px\"viewBox=\"0 0 24 24\"\n",
              "     width=\"24px\">\n",
              "    <g>\n",
              "        <path d=\"M19 3H5c-1.1 0-2 .9-2 2v14c0 1.1.9 2 2 2h14c1.1 0 2-.9 2-2V5c0-1.1-.9-2-2-2zM9 17H7v-7h2v7zm4 0h-2V7h2v10zm4 0h-2v-4h2v4z\"/>\n",
              "    </g>\n",
              "</svg>\n",
              "      </button>\n",
              "\n",
              "<style>\n",
              "  .colab-df-quickchart {\n",
              "      --bg-color: #E8F0FE;\n",
              "      --fill-color: #1967D2;\n",
              "      --hover-bg-color: #E2EBFA;\n",
              "      --hover-fill-color: #174EA6;\n",
              "      --disabled-fill-color: #AAA;\n",
              "      --disabled-bg-color: #DDD;\n",
              "  }\n",
              "\n",
              "  [theme=dark] .colab-df-quickchart {\n",
              "      --bg-color: #3B4455;\n",
              "      --fill-color: #D2E3FC;\n",
              "      --hover-bg-color: #434B5C;\n",
              "      --hover-fill-color: #FFFFFF;\n",
              "      --disabled-bg-color: #3B4455;\n",
              "      --disabled-fill-color: #666;\n",
              "  }\n",
              "\n",
              "  .colab-df-quickchart {\n",
              "    background-color: var(--bg-color);\n",
              "    border: none;\n",
              "    border-radius: 50%;\n",
              "    cursor: pointer;\n",
              "    display: none;\n",
              "    fill: var(--fill-color);\n",
              "    height: 32px;\n",
              "    padding: 0;\n",
              "    width: 32px;\n",
              "  }\n",
              "\n",
              "  .colab-df-quickchart:hover {\n",
              "    background-color: var(--hover-bg-color);\n",
              "    box-shadow: 0 1px 2px rgba(60, 64, 67, 0.3), 0 1px 3px 1px rgba(60, 64, 67, 0.15);\n",
              "    fill: var(--button-hover-fill-color);\n",
              "  }\n",
              "\n",
              "  .colab-df-quickchart-complete:disabled,\n",
              "  .colab-df-quickchart-complete:disabled:hover {\n",
              "    background-color: var(--disabled-bg-color);\n",
              "    fill: var(--disabled-fill-color);\n",
              "    box-shadow: none;\n",
              "  }\n",
              "\n",
              "  .colab-df-spinner {\n",
              "    border: 2px solid var(--fill-color);\n",
              "    border-color: transparent;\n",
              "    border-bottom-color: var(--fill-color);\n",
              "    animation:\n",
              "      spin 1s steps(1) infinite;\n",
              "  }\n",
              "\n",
              "  @keyframes spin {\n",
              "    0% {\n",
              "      border-color: transparent;\n",
              "      border-bottom-color: var(--fill-color);\n",
              "      border-left-color: var(--fill-color);\n",
              "    }\n",
              "    20% {\n",
              "      border-color: transparent;\n",
              "      border-left-color: var(--fill-color);\n",
              "      border-top-color: var(--fill-color);\n",
              "    }\n",
              "    30% {\n",
              "      border-color: transparent;\n",
              "      border-left-color: var(--fill-color);\n",
              "      border-top-color: var(--fill-color);\n",
              "      border-right-color: var(--fill-color);\n",
              "    }\n",
              "    40% {\n",
              "      border-color: transparent;\n",
              "      border-right-color: var(--fill-color);\n",
              "      border-top-color: var(--fill-color);\n",
              "    }\n",
              "    60% {\n",
              "      border-color: transparent;\n",
              "      border-right-color: var(--fill-color);\n",
              "    }\n",
              "    80% {\n",
              "      border-color: transparent;\n",
              "      border-right-color: var(--fill-color);\n",
              "      border-bottom-color: var(--fill-color);\n",
              "    }\n",
              "    90% {\n",
              "      border-color: transparent;\n",
              "      border-bottom-color: var(--fill-color);\n",
              "    }\n",
              "  }\n",
              "</style>\n",
              "\n",
              "      <script>\n",
              "        async function quickchart(key) {\n",
              "          const quickchartButtonEl =\n",
              "            document.querySelector('#' + key + ' button');\n",
              "          quickchartButtonEl.disabled = true;  // To prevent multiple clicks.\n",
              "          quickchartButtonEl.classList.add('colab-df-spinner');\n",
              "          try {\n",
              "            const charts = await google.colab.kernel.invokeFunction(\n",
              "                'suggestCharts', [key], {});\n",
              "          } catch (error) {\n",
              "            console.error('Error during call to suggestCharts:', error);\n",
              "          }\n",
              "          quickchartButtonEl.classList.remove('colab-df-spinner');\n",
              "          quickchartButtonEl.classList.add('colab-df-quickchart-complete');\n",
              "        }\n",
              "        (() => {\n",
              "          let quickchartButtonEl =\n",
              "            document.querySelector('#df-b535c674-cc18-492b-a637-c31ed3815b0b button');\n",
              "          quickchartButtonEl.style.display =\n",
              "            google.colab.kernel.accessAllowed ? 'block' : 'none';\n",
              "        })();\n",
              "      </script>\n",
              "    </div>\n",
              "\n",
              "  <div id=\"id_815ec04f-6b9c-45d2-9222-43a44e85a3d7\">\n",
              "    <style>\n",
              "      .colab-df-generate {\n",
              "        background-color: #E8F0FE;\n",
              "        border: none;\n",
              "        border-radius: 50%;\n",
              "        cursor: pointer;\n",
              "        display: none;\n",
              "        fill: #1967D2;\n",
              "        height: 32px;\n",
              "        padding: 0 0 0 0;\n",
              "        width: 32px;\n",
              "      }\n",
              "\n",
              "      .colab-df-generate:hover {\n",
              "        background-color: #E2EBFA;\n",
              "        box-shadow: 0px 1px 2px rgba(60, 64, 67, 0.3), 0px 1px 3px 1px rgba(60, 64, 67, 0.15);\n",
              "        fill: #174EA6;\n",
              "      }\n",
              "\n",
              "      [theme=dark] .colab-df-generate {\n",
              "        background-color: #3B4455;\n",
              "        fill: #D2E3FC;\n",
              "      }\n",
              "\n",
              "      [theme=dark] .colab-df-generate:hover {\n",
              "        background-color: #434B5C;\n",
              "        box-shadow: 0px 1px 3px 1px rgba(0, 0, 0, 0.15);\n",
              "        filter: drop-shadow(0px 1px 2px rgba(0, 0, 0, 0.3));\n",
              "        fill: #FFFFFF;\n",
              "      }\n",
              "    </style>\n",
              "    <button class=\"colab-df-generate\" onclick=\"generateWithVariable('data')\"\n",
              "            title=\"Generate code using this dataframe.\"\n",
              "            style=\"display:none;\">\n",
              "\n",
              "  <svg xmlns=\"http://www.w3.org/2000/svg\" height=\"24px\"viewBox=\"0 0 24 24\"\n",
              "       width=\"24px\">\n",
              "    <path d=\"M7,19H8.4L18.45,9,17,7.55,7,17.6ZM5,21V16.75L18.45,3.32a2,2,0,0,1,2.83,0l1.4,1.43a1.91,1.91,0,0,1,.58,1.4,1.91,1.91,0,0,1-.58,1.4L9.25,21ZM18.45,9,17,7.55Zm-12,3A5.31,5.31,0,0,0,4.9,8.1,5.31,5.31,0,0,0,1,6.5,5.31,5.31,0,0,0,4.9,4.9,5.31,5.31,0,0,0,6.5,1,5.31,5.31,0,0,0,8.1,4.9,5.31,5.31,0,0,0,12,6.5,5.46,5.46,0,0,0,6.5,12Z\"/>\n",
              "  </svg>\n",
              "    </button>\n",
              "    <script>\n",
              "      (() => {\n",
              "      const buttonEl =\n",
              "        document.querySelector('#id_815ec04f-6b9c-45d2-9222-43a44e85a3d7 button.colab-df-generate');\n",
              "      buttonEl.style.display =\n",
              "        google.colab.kernel.accessAllowed ? 'block' : 'none';\n",
              "\n",
              "      buttonEl.onclick = () => {\n",
              "        google.colab.notebook.generateWithVariable('data');\n",
              "      }\n",
              "      })();\n",
              "    </script>\n",
              "  </div>\n",
              "\n",
              "    </div>\n",
              "  </div>\n"
            ],
            "application/vnd.google.colaboratory.intrinsic+json": {
              "type": "dataframe",
              "variable_name": "data",
              "summary": "{\n  \"name\": \"data\",\n  \"rows\": 9543,\n  \"fields\": [\n    {\n      \"column\": \"text\",\n      \"properties\": {\n        \"dtype\": \"string\",\n        \"num_unique_values\": 9543,\n        \"samples\": [\n          \"When staffers in WeWork's New York City headquarters received a calendar invite for a mandatory meeting with a note\\u2026 https://t.co/dB8igjtRCt\",\n          \"ADMA Biologics down 9% premarket after pricing equity offering\",\n          \"Illegal Tender podcast: What it was like to befriend convicted socialite scammer Anna Delvey\"\n        ],\n        \"semantic_type\": \"\",\n        \"description\": \"\"\n      }\n    },\n    {\n      \"column\": \"label\",\n      \"properties\": {\n        \"dtype\": \"number\",\n        \"std\": 0,\n        \"min\": 0,\n        \"max\": 2,\n        \"num_unique_values\": 3,\n        \"samples\": [\n          0,\n          1,\n          2\n        ],\n        \"semantic_type\": \"\",\n        \"description\": \"\"\n      }\n    }\n  ]\n}"
            }
          },
          "metadata": {},
          "execution_count": 51
        }
      ],
      "source": [
        "data = deepcopy(df)\n",
        "data"
      ]
    },
    {
      "cell_type": "markdown",
      "id": "c73e253a",
      "metadata": {
        "id": "c73e253a"
      },
      "source": [
        "__`Step 13`__ Create a varaible called `X` that store the values of the input features and `y` that stores the values of the target feature."
      ]
    },
    {
      "cell_type": "code",
      "execution_count": null,
      "id": "d705137b",
      "metadata": {
        "id": "d705137b"
      },
      "outputs": [],
      "source": [
        "X = data.drop(columns=['label'], axis =1)\n",
        "y = data['label']"
      ]
    },
    {
      "cell_type": "markdown",
      "id": "e36a102b",
      "metadata": {
        "id": "e36a102b"
      },
      "source": [
        "__`Step 14`__ Split the data in train and validation set in a 80/20 split, with random_state = 42, stratification by y and with shuffle of the dataset."
      ]
    },
    {
      "cell_type": "code",
      "execution_count": null,
      "id": "e1c060ca",
      "metadata": {
        "id": "e1c060ca"
      },
      "outputs": [],
      "source": [
        "# Split the data into training and validation sets (80% train, 20% validation)\n",
        "X_train, X_val, y_train, y_val = train_test_split(X, y,\n",
        "                                                    test_size=0.2,\n",
        "                                                    random_state=42,\n",
        "                                                    stratify=y,\n",
        "                                                    shuffle=True\n",
        "                                                    )"
      ]
    },
    {
      "cell_type": "markdown",
      "id": "c9bd4427",
      "metadata": {
        "id": "c9bd4427"
      },
      "source": [
        "- This first split was made for testing the preprocessing methods. For feature selection and model assessment and optimization we will use cross validation with the preprocessing inside."
      ]
    },
    {
      "cell_type": "markdown",
      "id": "30699a7a",
      "metadata": {
        "id": "30699a7a"
      },
      "source": [
        "# 6. Data Preprocessing"
      ]
    },
    {
      "cell_type": "markdown",
      "id": "2c92aa23",
      "metadata": {
        "id": "2c92aa23"
      },
      "source": [
        "<span style=\"color:red\">\n",
        "PARA OPTIMIZAR O MODELO: </span> <br>\n",
        "- Procurar diferentes lemmatizers e stemmers e testa-los em gridsearch para ver qual o melhor modelo <br>\n",
        "- Procurar outras formas de preprocessing (corrigir typos, etc etc)<br>\n",
        "- Temos de aplicar o preprocessement ao test?\n"
      ]
    },
    {
      "cell_type": "markdown",
      "id": "4864fb44",
      "metadata": {
        "id": "4864fb44"
      },
      "source": [
        "__`Step 15`__ Create a function to do the data preprocessing. It includes:<br>\n",
        "|Preprocessement                                  |\n",
        "|------------------------------------|\n",
        "| Lowercasing |\n",
        "| Removes Regular Unwanted Expressions   |\n",
        "| Remove Punctuation           |\n",
        "| Tokenization |\n",
        "| Remove Stop Words                    |\n",
        "| Lemmatization |\n",
        "| Stemming                    |"
      ]
    },
    {
      "cell_type": "code",
      "execution_count": null,
      "id": "46daaae9",
      "metadata": {
        "id": "46daaae9"
      },
      "outputs": [],
      "source": [
        "lemma = WordNetLemmatizer()\n",
        "stemmer = SnowballStemmer('english')\n",
        "\n",
        "def preprocess(text_list, lemma = None, stemmer = None, word2vec=False):\n",
        "    \"\"\"\n",
        "    Return the prepocessed text in a list \"updates\".\n",
        "\n",
        "    Parameters:\n",
        "    text_list : list to be preprocessed\n",
        "    use_lemmatize : bool, optional\n",
        "        If True, applies lemmatization to the tokens. Default is True.\n",
        "    use_stemmer : bool, optional\n",
        "        If True, applies stemming to the tokens. Default is False.\n",
        "    \"\"\"\n",
        "\n",
        "    stop_words = set(stopwords.words('english'))\n",
        "\n",
        "    updates = []\n",
        "\n",
        "    for j in tqdm(text_list):\n",
        "\n",
        "        text = j\n",
        "\n",
        "        # Lower case text\n",
        "        text = text.lower()\n",
        "\n",
        "        # Remove Regular Unwanted Expressions\n",
        "        text = re.sub(r\"http\\S+|www\\S+|https\\S+\", '', text)\n",
        "        text = re.sub(r'@\\w+|#\\w+', '', text)\n",
        "        text = re.sub(r'\\d+', '', text)\n",
        "\n",
        "        # Remove Punctuation\n",
        "        text = re.sub(rf\"[{re.escape(string.punctuation)}]\", '', text)\n",
        "\n",
        "        # Tokenize the text\n",
        "        tokens = word_tokenize(text)\n",
        "\n",
        "        #Remove Stopwords\n",
        "        tokens = [word for word in tokens if word not in stop_words]\n",
        "\n",
        "        #Lemmatize\n",
        "        if lemma:\n",
        "            tokens = [lemma.lemmatize(word) for word in tokens]\n",
        "\n",
        "        #Stemming\n",
        "        if stemmer:\n",
        "            tokens = [stemmer.stem(word) for word in tokens]\n",
        "\n",
        "        # Rejoin tokens\n",
        "\n",
        "        if word2vec:\n",
        "            cleaned_text=tokens\n",
        "        else:\n",
        "            cleaned_text = \" \".join(tokens)\n",
        "\n",
        "        updates.append(cleaned_text)\n",
        "\n",
        "    return updates"
      ]
    },
    {
      "cell_type": "markdown",
      "id": "216580c2",
      "metadata": {
        "id": "216580c2"
      },
      "source": [
        "__`Step 16`__ Apply the preprocessement to X_train and X_val."
      ]
    },
    {
      "cell_type": "code",
      "execution_count": null,
      "id": "1201c241",
      "metadata": {
        "colab": {
          "base_uri": "https://localhost:8080/",
          "height": 441
        },
        "id": "1201c241",
        "outputId": "78d36931-bf11-4208-cd01-c587ee4449d1"
      },
      "outputs": [
        {
          "output_type": "stream",
          "name": "stderr",
          "text": [
            "100%|██████████| 7634/7634 [00:01<00:00, 3858.71it/s]\n"
          ]
        },
        {
          "output_type": "execute_result",
          "data": {
            "text/plain": [
              "                                                   text  \\\n",
              "2186          Nasdaq prices 600M of 0.875% senior notes   \n",
              "6819                 Futures up https://t.co/diz7v5lmVb   \n",
              "6157  $ECONX: November Nonfarm Private Payrolls 125K...   \n",
              "2462  Twitter users explain why Kohl's stock just go...   \n",
              "4097  Agilysys : Restaurants Find Sustainable Method...   \n",
              "...                                                 ...   \n",
              "2807                   Japan Tobacco reports FY results   \n",
              "704   The Fed's Emergence as a Power Player Poses Ne...   \n",
              "990   How the Rise of At-Home Fitness Services Could...   \n",
              "4362        Daniel Loeb's Top 5 Buys in the 3rd Quarter   \n",
              "7664  Zee Entertainment’s Subhash Chandra Resigns As...   \n",
              "\n",
              "                                                 tokens  \n",
              "2186                         nasdaq prices senior notes  \n",
              "6819                                            futures  \n",
              "6157  econx november nonfarm private payrolls k vs k...  \n",
              "2462  twitter users explain kohls stock got oblitera...  \n",
              "4097  agilysys restaurants find sustainable methods ...  \n",
              "...                                                 ...  \n",
              "2807                   japan tobacco reports fy results  \n",
              "704   feds emergence power player poses new risks in...  \n",
              "990   rise athome fitness services could benefit lul...  \n",
              "4362                   daniel loebs top buys rd quarter  \n",
              "7664  zee entertainment ’ subhash chandra resigns ch...  \n",
              "\n",
              "[7634 rows x 2 columns]"
            ],
            "text/html": [
              "\n",
              "  <div id=\"df-4550bfc8-162f-46b5-b0ea-6b2fb73cc823\" class=\"colab-df-container\">\n",
              "    <div>\n",
              "<style scoped>\n",
              "    .dataframe tbody tr th:only-of-type {\n",
              "        vertical-align: middle;\n",
              "    }\n",
              "\n",
              "    .dataframe tbody tr th {\n",
              "        vertical-align: top;\n",
              "    }\n",
              "\n",
              "    .dataframe thead th {\n",
              "        text-align: right;\n",
              "    }\n",
              "</style>\n",
              "<table border=\"1\" class=\"dataframe\">\n",
              "  <thead>\n",
              "    <tr style=\"text-align: right;\">\n",
              "      <th></th>\n",
              "      <th>text</th>\n",
              "      <th>tokens</th>\n",
              "    </tr>\n",
              "  </thead>\n",
              "  <tbody>\n",
              "    <tr>\n",
              "      <th>2186</th>\n",
              "      <td>Nasdaq prices 600M of 0.875% senior notes</td>\n",
              "      <td>nasdaq prices senior notes</td>\n",
              "    </tr>\n",
              "    <tr>\n",
              "      <th>6819</th>\n",
              "      <td>Futures up https://t.co/diz7v5lmVb</td>\n",
              "      <td>futures</td>\n",
              "    </tr>\n",
              "    <tr>\n",
              "      <th>6157</th>\n",
              "      <td>$ECONX: November Nonfarm Private Payrolls 125K...</td>\n",
              "      <td>econx november nonfarm private payrolls k vs k...</td>\n",
              "    </tr>\n",
              "    <tr>\n",
              "      <th>2462</th>\n",
              "      <td>Twitter users explain why Kohl's stock just go...</td>\n",
              "      <td>twitter users explain kohls stock got oblitera...</td>\n",
              "    </tr>\n",
              "    <tr>\n",
              "      <th>4097</th>\n",
              "      <td>Agilysys : Restaurants Find Sustainable Method...</td>\n",
              "      <td>agilysys restaurants find sustainable methods ...</td>\n",
              "    </tr>\n",
              "    <tr>\n",
              "      <th>...</th>\n",
              "      <td>...</td>\n",
              "      <td>...</td>\n",
              "    </tr>\n",
              "    <tr>\n",
              "      <th>2807</th>\n",
              "      <td>Japan Tobacco reports FY results</td>\n",
              "      <td>japan tobacco reports fy results</td>\n",
              "    </tr>\n",
              "    <tr>\n",
              "      <th>704</th>\n",
              "      <td>The Fed's Emergence as a Power Player Poses Ne...</td>\n",
              "      <td>feds emergence power player poses new risks in...</td>\n",
              "    </tr>\n",
              "    <tr>\n",
              "      <th>990</th>\n",
              "      <td>How the Rise of At-Home Fitness Services Could...</td>\n",
              "      <td>rise athome fitness services could benefit lul...</td>\n",
              "    </tr>\n",
              "    <tr>\n",
              "      <th>4362</th>\n",
              "      <td>Daniel Loeb's Top 5 Buys in the 3rd Quarter</td>\n",
              "      <td>daniel loebs top buys rd quarter</td>\n",
              "    </tr>\n",
              "    <tr>\n",
              "      <th>7664</th>\n",
              "      <td>Zee Entertainment’s Subhash Chandra Resigns As...</td>\n",
              "      <td>zee entertainment ’ subhash chandra resigns ch...</td>\n",
              "    </tr>\n",
              "  </tbody>\n",
              "</table>\n",
              "<p>7634 rows × 2 columns</p>\n",
              "</div>\n",
              "    <div class=\"colab-df-buttons\">\n",
              "\n",
              "  <div class=\"colab-df-container\">\n",
              "    <button class=\"colab-df-convert\" onclick=\"convertToInteractive('df-4550bfc8-162f-46b5-b0ea-6b2fb73cc823')\"\n",
              "            title=\"Convert this dataframe to an interactive table.\"\n",
              "            style=\"display:none;\">\n",
              "\n",
              "  <svg xmlns=\"http://www.w3.org/2000/svg\" height=\"24px\" viewBox=\"0 -960 960 960\">\n",
              "    <path d=\"M120-120v-720h720v720H120Zm60-500h600v-160H180v160Zm220 220h160v-160H400v160Zm0 220h160v-160H400v160ZM180-400h160v-160H180v160Zm440 0h160v-160H620v160ZM180-180h160v-160H180v160Zm440 0h160v-160H620v160Z\"/>\n",
              "  </svg>\n",
              "    </button>\n",
              "\n",
              "  <style>\n",
              "    .colab-df-container {\n",
              "      display:flex;\n",
              "      gap: 12px;\n",
              "    }\n",
              "\n",
              "    .colab-df-convert {\n",
              "      background-color: #E8F0FE;\n",
              "      border: none;\n",
              "      border-radius: 50%;\n",
              "      cursor: pointer;\n",
              "      display: none;\n",
              "      fill: #1967D2;\n",
              "      height: 32px;\n",
              "      padding: 0 0 0 0;\n",
              "      width: 32px;\n",
              "    }\n",
              "\n",
              "    .colab-df-convert:hover {\n",
              "      background-color: #E2EBFA;\n",
              "      box-shadow: 0px 1px 2px rgba(60, 64, 67, 0.3), 0px 1px 3px 1px rgba(60, 64, 67, 0.15);\n",
              "      fill: #174EA6;\n",
              "    }\n",
              "\n",
              "    .colab-df-buttons div {\n",
              "      margin-bottom: 4px;\n",
              "    }\n",
              "\n",
              "    [theme=dark] .colab-df-convert {\n",
              "      background-color: #3B4455;\n",
              "      fill: #D2E3FC;\n",
              "    }\n",
              "\n",
              "    [theme=dark] .colab-df-convert:hover {\n",
              "      background-color: #434B5C;\n",
              "      box-shadow: 0px 1px 3px 1px rgba(0, 0, 0, 0.15);\n",
              "      filter: drop-shadow(0px 1px 2px rgba(0, 0, 0, 0.3));\n",
              "      fill: #FFFFFF;\n",
              "    }\n",
              "  </style>\n",
              "\n",
              "    <script>\n",
              "      const buttonEl =\n",
              "        document.querySelector('#df-4550bfc8-162f-46b5-b0ea-6b2fb73cc823 button.colab-df-convert');\n",
              "      buttonEl.style.display =\n",
              "        google.colab.kernel.accessAllowed ? 'block' : 'none';\n",
              "\n",
              "      async function convertToInteractive(key) {\n",
              "        const element = document.querySelector('#df-4550bfc8-162f-46b5-b0ea-6b2fb73cc823');\n",
              "        const dataTable =\n",
              "          await google.colab.kernel.invokeFunction('convertToInteractive',\n",
              "                                                    [key], {});\n",
              "        if (!dataTable) return;\n",
              "\n",
              "        const docLinkHtml = 'Like what you see? Visit the ' +\n",
              "          '<a target=\"_blank\" href=https://colab.research.google.com/notebooks/data_table.ipynb>data table notebook</a>'\n",
              "          + ' to learn more about interactive tables.';\n",
              "        element.innerHTML = '';\n",
              "        dataTable['output_type'] = 'display_data';\n",
              "        await google.colab.output.renderOutput(dataTable, element);\n",
              "        const docLink = document.createElement('div');\n",
              "        docLink.innerHTML = docLinkHtml;\n",
              "        element.appendChild(docLink);\n",
              "      }\n",
              "    </script>\n",
              "  </div>\n",
              "\n",
              "\n",
              "    <div id=\"df-0f9e4a60-1548-49c2-8de8-09856a018fdc\">\n",
              "      <button class=\"colab-df-quickchart\" onclick=\"quickchart('df-0f9e4a60-1548-49c2-8de8-09856a018fdc')\"\n",
              "                title=\"Suggest charts\"\n",
              "                style=\"display:none;\">\n",
              "\n",
              "<svg xmlns=\"http://www.w3.org/2000/svg\" height=\"24px\"viewBox=\"0 0 24 24\"\n",
              "     width=\"24px\">\n",
              "    <g>\n",
              "        <path d=\"M19 3H5c-1.1 0-2 .9-2 2v14c0 1.1.9 2 2 2h14c1.1 0 2-.9 2-2V5c0-1.1-.9-2-2-2zM9 17H7v-7h2v7zm4 0h-2V7h2v10zm4 0h-2v-4h2v4z\"/>\n",
              "    </g>\n",
              "</svg>\n",
              "      </button>\n",
              "\n",
              "<style>\n",
              "  .colab-df-quickchart {\n",
              "      --bg-color: #E8F0FE;\n",
              "      --fill-color: #1967D2;\n",
              "      --hover-bg-color: #E2EBFA;\n",
              "      --hover-fill-color: #174EA6;\n",
              "      --disabled-fill-color: #AAA;\n",
              "      --disabled-bg-color: #DDD;\n",
              "  }\n",
              "\n",
              "  [theme=dark] .colab-df-quickchart {\n",
              "      --bg-color: #3B4455;\n",
              "      --fill-color: #D2E3FC;\n",
              "      --hover-bg-color: #434B5C;\n",
              "      --hover-fill-color: #FFFFFF;\n",
              "      --disabled-bg-color: #3B4455;\n",
              "      --disabled-fill-color: #666;\n",
              "  }\n",
              "\n",
              "  .colab-df-quickchart {\n",
              "    background-color: var(--bg-color);\n",
              "    border: none;\n",
              "    border-radius: 50%;\n",
              "    cursor: pointer;\n",
              "    display: none;\n",
              "    fill: var(--fill-color);\n",
              "    height: 32px;\n",
              "    padding: 0;\n",
              "    width: 32px;\n",
              "  }\n",
              "\n",
              "  .colab-df-quickchart:hover {\n",
              "    background-color: var(--hover-bg-color);\n",
              "    box-shadow: 0 1px 2px rgba(60, 64, 67, 0.3), 0 1px 3px 1px rgba(60, 64, 67, 0.15);\n",
              "    fill: var(--button-hover-fill-color);\n",
              "  }\n",
              "\n",
              "  .colab-df-quickchart-complete:disabled,\n",
              "  .colab-df-quickchart-complete:disabled:hover {\n",
              "    background-color: var(--disabled-bg-color);\n",
              "    fill: var(--disabled-fill-color);\n",
              "    box-shadow: none;\n",
              "  }\n",
              "\n",
              "  .colab-df-spinner {\n",
              "    border: 2px solid var(--fill-color);\n",
              "    border-color: transparent;\n",
              "    border-bottom-color: var(--fill-color);\n",
              "    animation:\n",
              "      spin 1s steps(1) infinite;\n",
              "  }\n",
              "\n",
              "  @keyframes spin {\n",
              "    0% {\n",
              "      border-color: transparent;\n",
              "      border-bottom-color: var(--fill-color);\n",
              "      border-left-color: var(--fill-color);\n",
              "    }\n",
              "    20% {\n",
              "      border-color: transparent;\n",
              "      border-left-color: var(--fill-color);\n",
              "      border-top-color: var(--fill-color);\n",
              "    }\n",
              "    30% {\n",
              "      border-color: transparent;\n",
              "      border-left-color: var(--fill-color);\n",
              "      border-top-color: var(--fill-color);\n",
              "      border-right-color: var(--fill-color);\n",
              "    }\n",
              "    40% {\n",
              "      border-color: transparent;\n",
              "      border-right-color: var(--fill-color);\n",
              "      border-top-color: var(--fill-color);\n",
              "    }\n",
              "    60% {\n",
              "      border-color: transparent;\n",
              "      border-right-color: var(--fill-color);\n",
              "    }\n",
              "    80% {\n",
              "      border-color: transparent;\n",
              "      border-right-color: var(--fill-color);\n",
              "      border-bottom-color: var(--fill-color);\n",
              "    }\n",
              "    90% {\n",
              "      border-color: transparent;\n",
              "      border-bottom-color: var(--fill-color);\n",
              "    }\n",
              "  }\n",
              "</style>\n",
              "\n",
              "      <script>\n",
              "        async function quickchart(key) {\n",
              "          const quickchartButtonEl =\n",
              "            document.querySelector('#' + key + ' button');\n",
              "          quickchartButtonEl.disabled = true;  // To prevent multiple clicks.\n",
              "          quickchartButtonEl.classList.add('colab-df-spinner');\n",
              "          try {\n",
              "            const charts = await google.colab.kernel.invokeFunction(\n",
              "                'suggestCharts', [key], {});\n",
              "          } catch (error) {\n",
              "            console.error('Error during call to suggestCharts:', error);\n",
              "          }\n",
              "          quickchartButtonEl.classList.remove('colab-df-spinner');\n",
              "          quickchartButtonEl.classList.add('colab-df-quickchart-complete');\n",
              "        }\n",
              "        (() => {\n",
              "          let quickchartButtonEl =\n",
              "            document.querySelector('#df-0f9e4a60-1548-49c2-8de8-09856a018fdc button');\n",
              "          quickchartButtonEl.style.display =\n",
              "            google.colab.kernel.accessAllowed ? 'block' : 'none';\n",
              "        })();\n",
              "      </script>\n",
              "    </div>\n",
              "\n",
              "  <div id=\"id_8fd05836-58f8-4415-8c64-bd5d1a9b59c3\">\n",
              "    <style>\n",
              "      .colab-df-generate {\n",
              "        background-color: #E8F0FE;\n",
              "        border: none;\n",
              "        border-radius: 50%;\n",
              "        cursor: pointer;\n",
              "        display: none;\n",
              "        fill: #1967D2;\n",
              "        height: 32px;\n",
              "        padding: 0 0 0 0;\n",
              "        width: 32px;\n",
              "      }\n",
              "\n",
              "      .colab-df-generate:hover {\n",
              "        background-color: #E2EBFA;\n",
              "        box-shadow: 0px 1px 2px rgba(60, 64, 67, 0.3), 0px 1px 3px 1px rgba(60, 64, 67, 0.15);\n",
              "        fill: #174EA6;\n",
              "      }\n",
              "\n",
              "      [theme=dark] .colab-df-generate {\n",
              "        background-color: #3B4455;\n",
              "        fill: #D2E3FC;\n",
              "      }\n",
              "\n",
              "      [theme=dark] .colab-df-generate:hover {\n",
              "        background-color: #434B5C;\n",
              "        box-shadow: 0px 1px 3px 1px rgba(0, 0, 0, 0.15);\n",
              "        filter: drop-shadow(0px 1px 2px rgba(0, 0, 0, 0.3));\n",
              "        fill: #FFFFFF;\n",
              "      }\n",
              "    </style>\n",
              "    <button class=\"colab-df-generate\" onclick=\"generateWithVariable('X_train')\"\n",
              "            title=\"Generate code using this dataframe.\"\n",
              "            style=\"display:none;\">\n",
              "\n",
              "  <svg xmlns=\"http://www.w3.org/2000/svg\" height=\"24px\"viewBox=\"0 0 24 24\"\n",
              "       width=\"24px\">\n",
              "    <path d=\"M7,19H8.4L18.45,9,17,7.55,7,17.6ZM5,21V16.75L18.45,3.32a2,2,0,0,1,2.83,0l1.4,1.43a1.91,1.91,0,0,1,.58,1.4,1.91,1.91,0,0,1-.58,1.4L9.25,21ZM18.45,9,17,7.55Zm-12,3A5.31,5.31,0,0,0,4.9,8.1,5.31,5.31,0,0,0,1,6.5,5.31,5.31,0,0,0,4.9,4.9,5.31,5.31,0,0,0,6.5,1,5.31,5.31,0,0,0,8.1,4.9,5.31,5.31,0,0,0,12,6.5,5.46,5.46,0,0,0,6.5,12Z\"/>\n",
              "  </svg>\n",
              "    </button>\n",
              "    <script>\n",
              "      (() => {\n",
              "      const buttonEl =\n",
              "        document.querySelector('#id_8fd05836-58f8-4415-8c64-bd5d1a9b59c3 button.colab-df-generate');\n",
              "      buttonEl.style.display =\n",
              "        google.colab.kernel.accessAllowed ? 'block' : 'none';\n",
              "\n",
              "      buttonEl.onclick = () => {\n",
              "        google.colab.notebook.generateWithVariable('X_train');\n",
              "      }\n",
              "      })();\n",
              "    </script>\n",
              "  </div>\n",
              "\n",
              "    </div>\n",
              "  </div>\n"
            ],
            "application/vnd.google.colaboratory.intrinsic+json": {
              "type": "dataframe",
              "variable_name": "X_train",
              "summary": "{\n  \"name\": \"X_train\",\n  \"rows\": 7634,\n  \"fields\": [\n    {\n      \"column\": \"text\",\n      \"properties\": {\n        \"dtype\": \"string\",\n        \"num_unique_values\": 7634,\n        \"samples\": [\n          \"Yestar Healthcare : Next Day Disclosure Returns #YestarHealthcare #Stock #MarketScreener https://t.co/k6srQHazpf https://t.co/oW9KRoFuxU\",\n          \"$YAYO Updated chart for u guys. Bullish MACD crossover on hourly chart. CMF is also rising. Short-term trend is now UP. Pivots on chart.\",\n          \"Korian s\\u2019associe \\u00e0 Omedys pour d\\u00e9velopper le premier r\\u00e9seau de t\\u00e9l\\u00e9consultation de proximit\\u00e9 \\u00e0 l\\u2019\\u00e9chelle nationale\"\n        ],\n        \"semantic_type\": \"\",\n        \"description\": \"\"\n      }\n    },\n    {\n      \"column\": \"tokens\",\n      \"properties\": {\n        \"dtype\": \"string\",\n        \"num_unique_values\": 7523,\n        \"samples\": [\n          \"merck declares dividend\",\n          \"pacd breaks c move could explosive accumulation\",\n          \"highlight explains eminent domain government cause seize private\\u2026\"\n        ],\n        \"semantic_type\": \"\",\n        \"description\": \"\"\n      }\n    }\n  ]\n}"
            }
          },
          "metadata": {},
          "execution_count": 55
        }
      ],
      "source": [
        "X_train['tokens'] = preprocess(X_train['text'])\n",
        "X_train"
      ]
    },
    {
      "cell_type": "code",
      "execution_count": null,
      "id": "9fc5c730",
      "metadata": {
        "colab": {
          "base_uri": "https://localhost:8080/",
          "height": 441
        },
        "id": "9fc5c730",
        "outputId": "a10d1f01-2fd7-4211-a647-45bc8f8fb214"
      },
      "outputs": [
        {
          "output_type": "stream",
          "name": "stderr",
          "text": [
            "100%|██████████| 1909/1909 [00:00<00:00, 4606.31it/s]\n"
          ]
        },
        {
          "output_type": "execute_result",
          "data": {
            "text/plain": [
              "                                                   text  \\\n",
              "4693  i love it when fertility clinic's decorate ......   \n",
              "1599  IRS investigators scrutinize Bitcoin ATMs and ...   \n",
              "9238  $SRPT higher by 4.5% today clearing 21 MA and ...   \n",
              "122   Wells Fargo Downgrades Netflix On Spending Con...   \n",
              "2475  DocuSign signs off on another solid earnings r...   \n",
              "...                                                 ...   \n",
              "7131  'A lot of people feel defeated...Trump always ...   \n",
              "34    Anchiano Therapeutics downgraded to peer perfo...   \n",
              "7109  Wall Street rallies on Friday but multi-week w...   \n",
              "5855  CORRECTED-Ex-British Airways executive indicte...   \n",
              "3945                        @MikeCaymanTrades sometimes   \n",
              "\n",
              "                                                 tokens  \n",
              "4693  love fertility clinics decorate even thanks gi...  \n",
              "1599   irs investigators scrutinize bitcoin atms kiosks  \n",
              "9238  srpt higher today clearing nearing feb opex va...  \n",
              "122    wells fargo downgrades netflix spending concerns  \n",
              "2475  docusign signs another solid earnings result docu  \n",
              "...                                                 ...  \n",
              "7131  lot people feel defeatedtrump always wins seem...  \n",
              "34    anchiano therapeutics downgraded peer perform ...  \n",
              "7109  wall street rallies friday multiweek win strea...  \n",
              "5855  correctedexbritish airways executive indicted ...  \n",
              "3945                                          sometimes  \n",
              "\n",
              "[1909 rows x 2 columns]"
            ],
            "text/html": [
              "\n",
              "  <div id=\"df-22957cad-12ad-4810-9c4d-2f5c34c3a1c0\" class=\"colab-df-container\">\n",
              "    <div>\n",
              "<style scoped>\n",
              "    .dataframe tbody tr th:only-of-type {\n",
              "        vertical-align: middle;\n",
              "    }\n",
              "\n",
              "    .dataframe tbody tr th {\n",
              "        vertical-align: top;\n",
              "    }\n",
              "\n",
              "    .dataframe thead th {\n",
              "        text-align: right;\n",
              "    }\n",
              "</style>\n",
              "<table border=\"1\" class=\"dataframe\">\n",
              "  <thead>\n",
              "    <tr style=\"text-align: right;\">\n",
              "      <th></th>\n",
              "      <th>text</th>\n",
              "      <th>tokens</th>\n",
              "    </tr>\n",
              "  </thead>\n",
              "  <tbody>\n",
              "    <tr>\n",
              "      <th>4693</th>\n",
              "      <td>i love it when fertility clinic's decorate ......</td>\n",
              "      <td>love fertility clinics decorate even thanks gi...</td>\n",
              "    </tr>\n",
              "    <tr>\n",
              "      <th>1599</th>\n",
              "      <td>IRS investigators scrutinize Bitcoin ATMs and ...</td>\n",
              "      <td>irs investigators scrutinize bitcoin atms kiosks</td>\n",
              "    </tr>\n",
              "    <tr>\n",
              "      <th>9238</th>\n",
              "      <td>$SRPT higher by 4.5% today clearing 21 MA and ...</td>\n",
              "      <td>srpt higher today clearing nearing feb opex va...</td>\n",
              "    </tr>\n",
              "    <tr>\n",
              "      <th>122</th>\n",
              "      <td>Wells Fargo Downgrades Netflix On Spending Con...</td>\n",
              "      <td>wells fargo downgrades netflix spending concerns</td>\n",
              "    </tr>\n",
              "    <tr>\n",
              "      <th>2475</th>\n",
              "      <td>DocuSign signs off on another solid earnings r...</td>\n",
              "      <td>docusign signs another solid earnings result docu</td>\n",
              "    </tr>\n",
              "    <tr>\n",
              "      <th>...</th>\n",
              "      <td>...</td>\n",
              "      <td>...</td>\n",
              "    </tr>\n",
              "    <tr>\n",
              "      <th>7131</th>\n",
              "      <td>'A lot of people feel defeated...Trump always ...</td>\n",
              "      <td>lot people feel defeatedtrump always wins seem...</td>\n",
              "    </tr>\n",
              "    <tr>\n",
              "      <th>34</th>\n",
              "      <td>Anchiano Therapeutics downgraded to peer perfo...</td>\n",
              "      <td>anchiano therapeutics downgraded peer perform ...</td>\n",
              "    </tr>\n",
              "    <tr>\n",
              "      <th>7109</th>\n",
              "      <td>Wall Street rallies on Friday but multi-week w...</td>\n",
              "      <td>wall street rallies friday multiweek win strea...</td>\n",
              "    </tr>\n",
              "    <tr>\n",
              "      <th>5855</th>\n",
              "      <td>CORRECTED-Ex-British Airways executive indicte...</td>\n",
              "      <td>correctedexbritish airways executive indicted ...</td>\n",
              "    </tr>\n",
              "    <tr>\n",
              "      <th>3945</th>\n",
              "      <td>@MikeCaymanTrades sometimes</td>\n",
              "      <td>sometimes</td>\n",
              "    </tr>\n",
              "  </tbody>\n",
              "</table>\n",
              "<p>1909 rows × 2 columns</p>\n",
              "</div>\n",
              "    <div class=\"colab-df-buttons\">\n",
              "\n",
              "  <div class=\"colab-df-container\">\n",
              "    <button class=\"colab-df-convert\" onclick=\"convertToInteractive('df-22957cad-12ad-4810-9c4d-2f5c34c3a1c0')\"\n",
              "            title=\"Convert this dataframe to an interactive table.\"\n",
              "            style=\"display:none;\">\n",
              "\n",
              "  <svg xmlns=\"http://www.w3.org/2000/svg\" height=\"24px\" viewBox=\"0 -960 960 960\">\n",
              "    <path d=\"M120-120v-720h720v720H120Zm60-500h600v-160H180v160Zm220 220h160v-160H400v160Zm0 220h160v-160H400v160ZM180-400h160v-160H180v160Zm440 0h160v-160H620v160ZM180-180h160v-160H180v160Zm440 0h160v-160H620v160Z\"/>\n",
              "  </svg>\n",
              "    </button>\n",
              "\n",
              "  <style>\n",
              "    .colab-df-container {\n",
              "      display:flex;\n",
              "      gap: 12px;\n",
              "    }\n",
              "\n",
              "    .colab-df-convert {\n",
              "      background-color: #E8F0FE;\n",
              "      border: none;\n",
              "      border-radius: 50%;\n",
              "      cursor: pointer;\n",
              "      display: none;\n",
              "      fill: #1967D2;\n",
              "      height: 32px;\n",
              "      padding: 0 0 0 0;\n",
              "      width: 32px;\n",
              "    }\n",
              "\n",
              "    .colab-df-convert:hover {\n",
              "      background-color: #E2EBFA;\n",
              "      box-shadow: 0px 1px 2px rgba(60, 64, 67, 0.3), 0px 1px 3px 1px rgba(60, 64, 67, 0.15);\n",
              "      fill: #174EA6;\n",
              "    }\n",
              "\n",
              "    .colab-df-buttons div {\n",
              "      margin-bottom: 4px;\n",
              "    }\n",
              "\n",
              "    [theme=dark] .colab-df-convert {\n",
              "      background-color: #3B4455;\n",
              "      fill: #D2E3FC;\n",
              "    }\n",
              "\n",
              "    [theme=dark] .colab-df-convert:hover {\n",
              "      background-color: #434B5C;\n",
              "      box-shadow: 0px 1px 3px 1px rgba(0, 0, 0, 0.15);\n",
              "      filter: drop-shadow(0px 1px 2px rgba(0, 0, 0, 0.3));\n",
              "      fill: #FFFFFF;\n",
              "    }\n",
              "  </style>\n",
              "\n",
              "    <script>\n",
              "      const buttonEl =\n",
              "        document.querySelector('#df-22957cad-12ad-4810-9c4d-2f5c34c3a1c0 button.colab-df-convert');\n",
              "      buttonEl.style.display =\n",
              "        google.colab.kernel.accessAllowed ? 'block' : 'none';\n",
              "\n",
              "      async function convertToInteractive(key) {\n",
              "        const element = document.querySelector('#df-22957cad-12ad-4810-9c4d-2f5c34c3a1c0');\n",
              "        const dataTable =\n",
              "          await google.colab.kernel.invokeFunction('convertToInteractive',\n",
              "                                                    [key], {});\n",
              "        if (!dataTable) return;\n",
              "\n",
              "        const docLinkHtml = 'Like what you see? Visit the ' +\n",
              "          '<a target=\"_blank\" href=https://colab.research.google.com/notebooks/data_table.ipynb>data table notebook</a>'\n",
              "          + ' to learn more about interactive tables.';\n",
              "        element.innerHTML = '';\n",
              "        dataTable['output_type'] = 'display_data';\n",
              "        await google.colab.output.renderOutput(dataTable, element);\n",
              "        const docLink = document.createElement('div');\n",
              "        docLink.innerHTML = docLinkHtml;\n",
              "        element.appendChild(docLink);\n",
              "      }\n",
              "    </script>\n",
              "  </div>\n",
              "\n",
              "\n",
              "    <div id=\"df-99d38f3c-2502-4e9c-9152-4daa8d7a226a\">\n",
              "      <button class=\"colab-df-quickchart\" onclick=\"quickchart('df-99d38f3c-2502-4e9c-9152-4daa8d7a226a')\"\n",
              "                title=\"Suggest charts\"\n",
              "                style=\"display:none;\">\n",
              "\n",
              "<svg xmlns=\"http://www.w3.org/2000/svg\" height=\"24px\"viewBox=\"0 0 24 24\"\n",
              "     width=\"24px\">\n",
              "    <g>\n",
              "        <path d=\"M19 3H5c-1.1 0-2 .9-2 2v14c0 1.1.9 2 2 2h14c1.1 0 2-.9 2-2V5c0-1.1-.9-2-2-2zM9 17H7v-7h2v7zm4 0h-2V7h2v10zm4 0h-2v-4h2v4z\"/>\n",
              "    </g>\n",
              "</svg>\n",
              "      </button>\n",
              "\n",
              "<style>\n",
              "  .colab-df-quickchart {\n",
              "      --bg-color: #E8F0FE;\n",
              "      --fill-color: #1967D2;\n",
              "      --hover-bg-color: #E2EBFA;\n",
              "      --hover-fill-color: #174EA6;\n",
              "      --disabled-fill-color: #AAA;\n",
              "      --disabled-bg-color: #DDD;\n",
              "  }\n",
              "\n",
              "  [theme=dark] .colab-df-quickchart {\n",
              "      --bg-color: #3B4455;\n",
              "      --fill-color: #D2E3FC;\n",
              "      --hover-bg-color: #434B5C;\n",
              "      --hover-fill-color: #FFFFFF;\n",
              "      --disabled-bg-color: #3B4455;\n",
              "      --disabled-fill-color: #666;\n",
              "  }\n",
              "\n",
              "  .colab-df-quickchart {\n",
              "    background-color: var(--bg-color);\n",
              "    border: none;\n",
              "    border-radius: 50%;\n",
              "    cursor: pointer;\n",
              "    display: none;\n",
              "    fill: var(--fill-color);\n",
              "    height: 32px;\n",
              "    padding: 0;\n",
              "    width: 32px;\n",
              "  }\n",
              "\n",
              "  .colab-df-quickchart:hover {\n",
              "    background-color: var(--hover-bg-color);\n",
              "    box-shadow: 0 1px 2px rgba(60, 64, 67, 0.3), 0 1px 3px 1px rgba(60, 64, 67, 0.15);\n",
              "    fill: var(--button-hover-fill-color);\n",
              "  }\n",
              "\n",
              "  .colab-df-quickchart-complete:disabled,\n",
              "  .colab-df-quickchart-complete:disabled:hover {\n",
              "    background-color: var(--disabled-bg-color);\n",
              "    fill: var(--disabled-fill-color);\n",
              "    box-shadow: none;\n",
              "  }\n",
              "\n",
              "  .colab-df-spinner {\n",
              "    border: 2px solid var(--fill-color);\n",
              "    border-color: transparent;\n",
              "    border-bottom-color: var(--fill-color);\n",
              "    animation:\n",
              "      spin 1s steps(1) infinite;\n",
              "  }\n",
              "\n",
              "  @keyframes spin {\n",
              "    0% {\n",
              "      border-color: transparent;\n",
              "      border-bottom-color: var(--fill-color);\n",
              "      border-left-color: var(--fill-color);\n",
              "    }\n",
              "    20% {\n",
              "      border-color: transparent;\n",
              "      border-left-color: var(--fill-color);\n",
              "      border-top-color: var(--fill-color);\n",
              "    }\n",
              "    30% {\n",
              "      border-color: transparent;\n",
              "      border-left-color: var(--fill-color);\n",
              "      border-top-color: var(--fill-color);\n",
              "      border-right-color: var(--fill-color);\n",
              "    }\n",
              "    40% {\n",
              "      border-color: transparent;\n",
              "      border-right-color: var(--fill-color);\n",
              "      border-top-color: var(--fill-color);\n",
              "    }\n",
              "    60% {\n",
              "      border-color: transparent;\n",
              "      border-right-color: var(--fill-color);\n",
              "    }\n",
              "    80% {\n",
              "      border-color: transparent;\n",
              "      border-right-color: var(--fill-color);\n",
              "      border-bottom-color: var(--fill-color);\n",
              "    }\n",
              "    90% {\n",
              "      border-color: transparent;\n",
              "      border-bottom-color: var(--fill-color);\n",
              "    }\n",
              "  }\n",
              "</style>\n",
              "\n",
              "      <script>\n",
              "        async function quickchart(key) {\n",
              "          const quickchartButtonEl =\n",
              "            document.querySelector('#' + key + ' button');\n",
              "          quickchartButtonEl.disabled = true;  // To prevent multiple clicks.\n",
              "          quickchartButtonEl.classList.add('colab-df-spinner');\n",
              "          try {\n",
              "            const charts = await google.colab.kernel.invokeFunction(\n",
              "                'suggestCharts', [key], {});\n",
              "          } catch (error) {\n",
              "            console.error('Error during call to suggestCharts:', error);\n",
              "          }\n",
              "          quickchartButtonEl.classList.remove('colab-df-spinner');\n",
              "          quickchartButtonEl.classList.add('colab-df-quickchart-complete');\n",
              "        }\n",
              "        (() => {\n",
              "          let quickchartButtonEl =\n",
              "            document.querySelector('#df-99d38f3c-2502-4e9c-9152-4daa8d7a226a button');\n",
              "          quickchartButtonEl.style.display =\n",
              "            google.colab.kernel.accessAllowed ? 'block' : 'none';\n",
              "        })();\n",
              "      </script>\n",
              "    </div>\n",
              "\n",
              "  <div id=\"id_3dcd45fb-8c46-4048-acf8-cbf8e07c17f3\">\n",
              "    <style>\n",
              "      .colab-df-generate {\n",
              "        background-color: #E8F0FE;\n",
              "        border: none;\n",
              "        border-radius: 50%;\n",
              "        cursor: pointer;\n",
              "        display: none;\n",
              "        fill: #1967D2;\n",
              "        height: 32px;\n",
              "        padding: 0 0 0 0;\n",
              "        width: 32px;\n",
              "      }\n",
              "\n",
              "      .colab-df-generate:hover {\n",
              "        background-color: #E2EBFA;\n",
              "        box-shadow: 0px 1px 2px rgba(60, 64, 67, 0.3), 0px 1px 3px 1px rgba(60, 64, 67, 0.15);\n",
              "        fill: #174EA6;\n",
              "      }\n",
              "\n",
              "      [theme=dark] .colab-df-generate {\n",
              "        background-color: #3B4455;\n",
              "        fill: #D2E3FC;\n",
              "      }\n",
              "\n",
              "      [theme=dark] .colab-df-generate:hover {\n",
              "        background-color: #434B5C;\n",
              "        box-shadow: 0px 1px 3px 1px rgba(0, 0, 0, 0.15);\n",
              "        filter: drop-shadow(0px 1px 2px rgba(0, 0, 0, 0.3));\n",
              "        fill: #FFFFFF;\n",
              "      }\n",
              "    </style>\n",
              "    <button class=\"colab-df-generate\" onclick=\"generateWithVariable('X_val')\"\n",
              "            title=\"Generate code using this dataframe.\"\n",
              "            style=\"display:none;\">\n",
              "\n",
              "  <svg xmlns=\"http://www.w3.org/2000/svg\" height=\"24px\"viewBox=\"0 0 24 24\"\n",
              "       width=\"24px\">\n",
              "    <path d=\"M7,19H8.4L18.45,9,17,7.55,7,17.6ZM5,21V16.75L18.45,3.32a2,2,0,0,1,2.83,0l1.4,1.43a1.91,1.91,0,0,1,.58,1.4,1.91,1.91,0,0,1-.58,1.4L9.25,21ZM18.45,9,17,7.55Zm-12,3A5.31,5.31,0,0,0,4.9,8.1,5.31,5.31,0,0,0,1,6.5,5.31,5.31,0,0,0,4.9,4.9,5.31,5.31,0,0,0,6.5,1,5.31,5.31,0,0,0,8.1,4.9,5.31,5.31,0,0,0,12,6.5,5.46,5.46,0,0,0,6.5,12Z\"/>\n",
              "  </svg>\n",
              "    </button>\n",
              "    <script>\n",
              "      (() => {\n",
              "      const buttonEl =\n",
              "        document.querySelector('#id_3dcd45fb-8c46-4048-acf8-cbf8e07c17f3 button.colab-df-generate');\n",
              "      buttonEl.style.display =\n",
              "        google.colab.kernel.accessAllowed ? 'block' : 'none';\n",
              "\n",
              "      buttonEl.onclick = () => {\n",
              "        google.colab.notebook.generateWithVariable('X_val');\n",
              "      }\n",
              "      })();\n",
              "    </script>\n",
              "  </div>\n",
              "\n",
              "    </div>\n",
              "  </div>\n"
            ],
            "application/vnd.google.colaboratory.intrinsic+json": {
              "type": "dataframe",
              "variable_name": "X_val",
              "summary": "{\n  \"name\": \"X_val\",\n  \"rows\": 1909,\n  \"fields\": [\n    {\n      \"column\": \"text\",\n      \"properties\": {\n        \"dtype\": \"string\",\n        \"num_unique_values\": 1909,\n        \"samples\": [\n          \"This Japanese longevity expert lived to 105 and generally ate the same thing every day. (via @CNBCMakeIt) https://t.co/velmN3Yzkd\",\n          \"Cruise Ship Passengers in New Jersey Screened for Coronavirus\",\n          \"A sterling surge after the UK election could be short-lived as Brexit gets even more complicated https://t.co/Ws30IATCNs\"\n        ],\n        \"semantic_type\": \"\",\n        \"description\": \"\"\n      }\n    },\n    {\n      \"column\": \"tokens\",\n      \"properties\": {\n        \"dtype\": \"string\",\n        \"num_unique_values\": 1898,\n        \"samples\": [\n          \"american beaches may soon disappear\",\n          \"global guide usbacked uprisings\",\n          \"chinas house price growth hit fiveyear low reuters poll \\u2026\"\n        ],\n        \"semantic_type\": \"\",\n        \"description\": \"\"\n      }\n    }\n  ]\n}"
            }
          },
          "metadata": {},
          "execution_count": 56
        }
      ],
      "source": [
        "X_val['tokens'] = preprocess(X_val['text'])\n",
        "X_val"
      ]
    },
    {
      "cell_type": "code",
      "execution_count": null,
      "id": "1b13045f",
      "metadata": {
        "colab": {
          "base_uri": "https://localhost:8080/"
        },
        "id": "1b13045f",
        "outputId": "7e6a30d3-a06b-4c5e-81a9-f6b8e918bbdb"
      },
      "outputs": [
        {
          "output_type": "stream",
          "name": "stderr",
          "text": [
            "100%|██████████| 7634/7634 [00:02<00:00, 3595.51it/s]\n",
            "100%|██████████| 1909/1909 [00:00<00:00, 3526.66it/s]\n"
          ]
        }
      ],
      "source": [
        "X_train_cleaned=preprocess(X_train['text'])\n",
        "X_val_cleaned=preprocess(X_val['text'])"
      ]
    },
    {
      "cell_type": "markdown",
      "id": "ca51bd10",
      "metadata": {
        "id": "ca51bd10"
      },
      "source": [
        "# 7. Feature Engineering"
      ]
    },
    {
      "cell_type": "markdown",
      "id": "cc3e9dae",
      "metadata": {
        "id": "cc3e9dae"
      },
      "source": [
        "This section contains different feature engineering approachs that our group tested (bag of words, word2vec and transformers)."
      ]
    },
    {
      "cell_type": "code",
      "execution_count": null,
      "id": "f08e497d",
      "metadata": {
        "id": "f08e497d"
      },
      "outputs": [],
      "source": [
        "dim=100"
      ]
    },
    {
      "cell_type": "markdown",
      "id": "ae2508c9",
      "metadata": {
        "id": "ae2508c9"
      },
      "source": [
        "## 7.1. Bag of Words (BoW)"
      ]
    },
    {
      "cell_type": "markdown",
      "id": "b7bdc57a",
      "metadata": {
        "id": "b7bdc57a"
      },
      "source": [
        "__`Step 17`__ Apply BoW to the X_train already preprocessed."
      ]
    },
    {
      "cell_type": "code",
      "execution_count": null,
      "id": "41c0796d",
      "metadata": {
        "id": "41c0796d"
      },
      "outputs": [],
      "source": [
        "bow = CountVectorizer(binary=True)\n",
        "X_train_bow = bow.fit_transform(X_train_cleaned)\n",
        "X_val_bow = bow.transform(X_val_cleaned)"
      ]
    },
    {
      "cell_type": "markdown",
      "id": "b37534eb",
      "metadata": {
        "id": "b37534eb"
      },
      "source": [
        "__`Step 18`__ Visualize the 20 most common words in the BoW created."
      ]
    },
    {
      "cell_type": "code",
      "execution_count": null,
      "id": "46a9ba0f",
      "metadata": {
        "id": "46a9ba0f"
      },
      "outputs": [],
      "source": [
        "# # Visualize top Bag of Words terms (Cleaned)\n",
        "# clean_bow_sum = np.array(X_train_bow.sum(axis=0)).flatten()\n",
        "# clean_terms = bow.get_feature_names_out() # in older versions is get_feature_names()\n",
        "# clean_top = pd.DataFrame({'term': clean_terms, 'count': clean_bow_sum}).sort_values(by='count', ascending=False).head(20)\n",
        "\n",
        "# sns.barplot(data=clean_top, x='count', y='term', color=color_390, edgecolor=color_431)\n",
        "# plt.title(\"Top Bag-of-Words Terms (Cleaned)\")\n",
        "# plt.show()"
      ]
    },
    {
      "cell_type": "markdown",
      "id": "fd4a905f",
      "metadata": {
        "id": "fd4a905f"
      },
      "source": [
        "## 7.2. Word2vec - WIP"
      ]
    },
    {
      "cell_type": "markdown",
      "id": "97a2c96b",
      "metadata": {
        "id": "97a2c96b"
      },
      "source": [
        "__`Step 19`__ Apply word2vec to the X_train already preprocessed."
      ]
    },
    {
      "cell_type": "code",
      "execution_count": null,
      "id": "917cc911",
      "metadata": {
        "id": "917cc911"
      },
      "outputs": [],
      "source": [
        "# X_train_cleaned_word2vec=preprocess(X_train['text'], word2vec=True)"
      ]
    },
    {
      "cell_type": "code",
      "execution_count": null,
      "id": "b9a810da",
      "metadata": {
        "id": "b9a810da"
      },
      "outputs": [],
      "source": [
        "# # Tokenize the tokens column for Word2Vec input\n",
        "# X_train_tokens = [text.split() for text in X_train['tokens']]\n",
        "# X_val_tokens = [text.split() for text in X_val['tokens']]\n",
        "\n",
        "# model = Word2Vec(\n",
        "#     sentences=corpus,\n",
        "#     vector_size=5,    # size of the embedding vectors\n",
        "#     window=2,         # context window size -  maximum distance between a target word and its context words\n",
        "#     min_count=1,      # minimum word frequency that a word mus have in the corpus to be included in the modelx\n",
        "#     sg=1              # 1 for skip-gram; 0 for CBOW (Predict the target word based on its context words.)\n",
        "# )\n",
        "\n",
        "# Train Word2Vec model on training data\n",
        "w2v_model = Word2Vec(sentences=X_train_cleaned_word2vec, vector_size=100, window=5, min_count=1, workers=4, sg=1)"
      ]
    },
    {
      "cell_type": "markdown",
      "id": "663355f0",
      "metadata": {
        "id": "663355f0"
      },
      "source": [
        "__`Step 20`__ Embeddings for each tweet in the corpus - average of the embeddings of each word in that tweet - suitable for models like KNN and Logistic Regression"
      ]
    },
    {
      "cell_type": "code",
      "execution_count": null,
      "id": "aecd937a",
      "metadata": {
        "id": "aecd937a"
      },
      "outputs": [],
      "source": [
        "def average_embedding(text, model, dim):\n",
        "    words = text.split()\n",
        "    vectors = []\n",
        "    for word in words:\n",
        "        if word in model:\n",
        "            vectors.append(model[word])\n",
        "    if vectors:\n",
        "        return np.mean(vectors, axis=0)\n",
        "    else:\n",
        "        return np.zeros(dim)"
      ]
    },
    {
      "cell_type": "code",
      "execution_count": null,
      "id": "14ec7734",
      "metadata": {
        "id": "14ec7734"
      },
      "outputs": [],
      "source": [
        "# These are embeddings with average (take the average of all the words in the tweet) - suitable for KNN and Logistic Regression\n",
        "X_train_avgembeddings_from_scratch = np.array([average_embedding(text, w2v_model.wv, dim=dim) for text in X_train_cleaned])\n",
        "X_val_avgembeddings_from_scratch = np.array([average_embedding(text, w2v_model.wv, dim=dim) for text in X_val_cleaned])"
      ]
    },
    {
      "cell_type": "markdown",
      "id": "7467f8d3",
      "metadata": {
        "id": "7467f8d3"
      },
      "source": [
        "__`Step 21`__ Get the embeddings for each word - do not need to make the average - suitable for RNN and LSTM. These models accepts as inputs vectors of vectors\n",
        "\n",
        "⚠️ Commented out because this is not suitable for KNN and Logistic"
      ]
    },
    {
      "cell_type": "code",
      "execution_count": null,
      "id": "afa3dc07",
      "metadata": {
        "id": "afa3dc07"
      },
      "outputs": [],
      "source": [
        "# def corpus2vec(corpus, w2v):\n",
        "#     index_set = set(w2v.index_to_key)  # List of all words/vocabulary in the model\n",
        "#     word_vec = w2v.get_vector           # Creates a short cut that retrieves the embedding method for a given word\n",
        "#     return [\n",
        "#         [word_vec(word) for word in doc.split() if word in index_set]\n",
        "#         for doc in tqdm(corpus)\n",
        "#     ]"
      ]
    },
    {
      "cell_type": "code",
      "execution_count": null,
      "id": "d6be4a6a",
      "metadata": {
        "id": "d6be4a6a"
      },
      "outputs": [],
      "source": [
        "# # these are embeddings where each word is a vector (not computed the average across words) - suitable for RNN and LSTM\n",
        "# X_train_embeddings_from_scratch = corpus2vec(X_train_cleaned, w2v_model.wv)\n",
        "# X_val_embeddings_from_scratch = corpus2vec(X_val_cleaned, w2v_model.wv)"
      ]
    },
    {
      "cell_type": "markdown",
      "id": "5d6d246b",
      "metadata": {
        "id": "5d6d246b"
      },
      "source": [
        "## 7.3. Word Vectors with Glove (Pretrained Word Vectors)\n",
        "\n",
        "⚠️ Commented out because this is not suitable for KNN and Logistic"
      ]
    },
    {
      "cell_type": "markdown",
      "id": "b0655e97",
      "metadata": {
        "id": "b0655e97"
      },
      "source": [
        "__`Step 21`__ Download the pretrained word vectors."
      ]
    },
    {
      "cell_type": "code",
      "execution_count": null,
      "id": "269794ac",
      "metadata": {
        "colab": {
          "base_uri": "https://localhost:8080/"
        },
        "id": "269794ac",
        "outputId": "b905a79e-3d13-415a-ccad-484b43bc61f0"
      },
      "outputs": [
        {
          "output_type": "stream",
          "name": "stdout",
          "text": [
            "['fasttext-wiki-news-subwords-300', 'conceptnet-numberbatch-17-06-300', 'word2vec-ruscorpora-300', 'word2vec-google-news-300', 'glove-wiki-gigaword-50', 'glove-wiki-gigaword-100', 'glove-wiki-gigaword-200', 'glove-wiki-gigaword-300', 'glove-twitter-25', 'glove-twitter-50', 'glove-twitter-100', 'glove-twitter-200', '__testing_word2vec-matrix-synopsis']\n"
          ]
        }
      ],
      "source": [
        "print(list(gensim.downloader.info()['models'].keys()))"
      ]
    },
    {
      "cell_type": "code",
      "execution_count": null,
      "id": "a18fbe37",
      "metadata": {
        "id": "a18fbe37"
      },
      "outputs": [],
      "source": [
        "# we will use the one regarding twitter\n",
        "glove_model_100 = gensim.downloader.load(f'glove-twitter-{dim}')"
      ]
    },
    {
      "cell_type": "code",
      "execution_count": null,
      "id": "73ee8f9c",
      "metadata": {
        "id": "73ee8f9c"
      },
      "outputs": [],
      "source": [
        "X_train_avgembeddings_glove = np.array([average_embedding(text, glove_model_100, dim=dim) for text in X_train_cleaned])\n",
        "X_val_avgembeddings_glove = np.array([average_embedding(text, glove_model_100, dim=dim) for text in X_val_cleaned])"
      ]
    },
    {
      "cell_type": "code",
      "execution_count": null,
      "id": "78f03958",
      "metadata": {
        "id": "78f03958"
      },
      "outputs": [],
      "source": [
        "# X_train_embeddings_glove = corpus2vec(X_train_cleaned, glove_model_100)\n",
        "# X_val_embeddings_glove = corpus2vec(X_val_cleaned, glove_model_100)"
      ]
    },
    {
      "cell_type": "markdown",
      "id": "454d0bfd",
      "metadata": {
        "id": "454d0bfd"
      },
      "source": [
        "## 7.3. Transformer (Encoder)"
      ]
    },
    {
      "cell_type": "code",
      "execution_count": null,
      "id": "95a573e4",
      "metadata": {
        "id": "95a573e4"
      },
      "outputs": [],
      "source": [
        "MODEL = \"assemblyai/distilbert-base-uncased-sst2\"\n",
        "#MODEL = \"cardiffnlp/twitter-roberta-base-sentiment\"\n",
        "#MODEL = \"cardiffnlp/twitter-xlm-roberta-base-sentiment\""
      ]
    },
    {
      "cell_type": "code",
      "execution_count": null,
      "id": "425c740e",
      "metadata": {
        "colab": {
          "base_uri": "https://localhost:8080/"
        },
        "id": "425c740e",
        "outputId": "b7b5c0b6-029b-4c1c-a692-c802136571e2"
      },
      "outputs": [
        {
          "output_type": "stream",
          "name": "stderr",
          "text": [
            "Device set to use cpu\n"
          ]
        }
      ],
      "source": [
        "model = pipeline(\"feature-extraction\", model=MODEL, tokenizer=MODEL, batch_size=16, truncation=True)"
      ]
    },
    {
      "cell_type": "code",
      "execution_count": null,
      "id": "8d65d8df",
      "metadata": {
        "id": "8d65d8df"
      },
      "outputs": [],
      "source": [
        "def generate_embeddings(\n",
        "    texts,\n",
        "    embeddings_model,\n",
        "    for_sequence_model=False,\n",
        "    desc=\"Generating Embeddings\"\n",
        "):\n",
        "    \"\"\"\n",
        "    Generates either CLS embeddings (1 per text) or full token embeddings (sequence) for each input text.\n",
        "\n",
        "    Args:\n",
        "        texts (list of str): List of input texts.\n",
        "        embeddings_model (callable): Hugging Face pipeline(\"feature-extraction\", ...).\n",
        "        use_cls (bool): If True, use the CLS token embedding; if False, use mean pooling.\n",
        "        for_sequence_model (bool): If True, return full token-level embeddings (for RNNs).\n",
        "        desc (str): tqdm progress bar description.\n",
        "\n",
        "    Returns:\n",
        "        If for_sequence_model:\n",
        "            List[torch.Tensor]: Each tensor is [seq_len, hidden_dim].\n",
        "        Else:\n",
        "            torch.Tensor: Tensor of shape [num_texts, hidden_dim].\n",
        "    \"\"\"\n",
        "    processed = []\n",
        "\n",
        "    for text in tqdm(texts, desc=desc):\n",
        "        output = embeddings_model(text)  # list[list[list]]\n",
        "        token_embeddings = output[0]  # get token vectors from the first (and only) item in batch\n",
        "        token_embeddings = torch.tensor(token_embeddings)  # shape: [seq_len, hidden_dim]\n",
        "\n",
        "        if for_sequence_model:\n",
        "            processed.append(token_embeddings)  # shape: [seq_len, hidden_dim]\n",
        "        else:\n",
        "            summary_vector = token_embeddings[0]  # [CLS] token embedding\n",
        "            processed.append(summary_vector)\n",
        "\n",
        "    if for_sequence_model:\n",
        "        return processed\n",
        "    else:\n",
        "        return torch.stack(processed)  # shape: [num_texts, hidden_dim]\n"
      ]
    },
    {
      "cell_type": "code",
      "execution_count": null,
      "id": "d8a2f574",
      "metadata": {
        "colab": {
          "base_uri": "https://localhost:8080/"
        },
        "id": "d8a2f574",
        "outputId": "b338cb6c-6fcc-4bda-d104-1755f5b891dd"
      },
      "outputs": [
        {
          "output_type": "stream",
          "name": "stderr",
          "text": [
            "Generating Embeddings: 100%|██████████| 7634/7634 [07:34<00:00, 16.78it/s]\n",
            "Generating Embeddings: 100%|██████████| 1909/1909 [01:49<00:00, 17.46it/s]\n"
          ]
        }
      ],
      "source": [
        "X_train_avgembeddings_transformer=generate_embeddings(X_train_cleaned, model)\n",
        "X_val_avgembeddings_transformer=generate_embeddings(X_val_cleaned, model)"
      ]
    },
    {
      "cell_type": "code",
      "execution_count": null,
      "id": "ec7c0292",
      "metadata": {
        "id": "ec7c0292"
      },
      "outputs": [],
      "source": [
        "# X_train_embeddings_transformer=generate_embeddings(X_train_cleaned, model, for_sequence_model=True)\n",
        "# X_val_embeddings_transformer=generate_embeddings(X_val_cleaned, model, for_sequence_model=True)"
      ]
    },
    {
      "cell_type": "code",
      "source": [
        "raise RuntimeError(\"STOP HERE: This is the end of preprocessing.\")"
      ],
      "metadata": {
        "id": "DzKqVWcH8MSX",
        "colab": {
          "base_uri": "https://localhost:8080/",
          "height": 141
        },
        "outputId": "cd1209ac-0e88-4662-8216-a94e3ec9e088"
      },
      "id": "DzKqVWcH8MSX",
      "execution_count": null,
      "outputs": [
        {
          "output_type": "error",
          "ename": "RuntimeError",
          "evalue": "STOP HERE: This is the end of preprocessing.",
          "traceback": [
            "\u001b[0;31m---------------------------------------------------------------------------\u001b[0m",
            "\u001b[0;31mRuntimeError\u001b[0m                              Traceback (most recent call last)",
            "\u001b[0;32m<ipython-input-76-3870685716>\u001b[0m in \u001b[0;36m<cell line: 0>\u001b[0;34m()\u001b[0m\n\u001b[0;32m----> 1\u001b[0;31m \u001b[0;32mraise\u001b[0m \u001b[0mRuntimeError\u001b[0m\u001b[0;34m(\u001b[0m\u001b[0;34m\"STOP HERE: This is the end of preprocessing.\"\u001b[0m\u001b[0;34m)\u001b[0m\u001b[0;34m\u001b[0m\u001b[0;34m\u001b[0m\u001b[0m\n\u001b[0m",
            "\u001b[0;31mRuntimeError\u001b[0m: STOP HERE: This is the end of preprocessing."
          ]
        }
      ]
    },
    {
      "cell_type": "markdown",
      "id": "ffcd3139",
      "metadata": {
        "id": "ffcd3139"
      },
      "source": [
        "# 8. Classification Models & Evaluation"
      ]
    },
    {
      "cell_type": "markdown",
      "id": "8db32dbe",
      "metadata": {
        "id": "8db32dbe"
      },
      "source": [
        "X_train_avgembeddings_(...) - for KNN and logistic regression models. Each tweet is a vector with the average embeddings of each word\n",
        "X_train_embeddings_(...) - for RNN and LTSM. Each tweet is a vector of vector. Each word is an embedding, all embaddings have the same size. It is needed padding, done below in the RNN and LSTM section."
      ]
    },
    {
      "cell_type": "markdown",
      "source": [
        "## 8.1 Defining configurations and functions"
      ],
      "metadata": {
        "id": "OfTKHvn7Oe5u"
      },
      "id": "OfTKHvn7Oe5u"
    },
    {
      "cell_type": "code",
      "source": [
        "feature_sets = {\n",
        "    \"BoW\": (X_train_bow, X_val_bow),\n",
        "    \"Word2Vec\": (X_train_avgembeddings_from_scratch, X_val_avgembeddings_from_scratch),\n",
        "    \"GloVe\": (X_train_avgembeddings_glove, X_val_avgembeddings_glove),\n",
        "    \"Transformer\": (X_train_avgembeddings_transformer, X_val_avgembeddings_transformer)\n",
        "}\n"
      ],
      "metadata": {
        "id": "QAbIMG0IBpzj"
      },
      "id": "QAbIMG0IBpzj",
      "execution_count": null,
      "outputs": []
    },
    {
      "cell_type": "code",
      "source": [
        "knn_configs = [\n",
        "    {\"n_neighbors\": 5, \"metric\": \"cosine\", \"weights\": \"uniform\"},\n",
        "    {\"n_neighbors\": 10, \"metric\": \"cosine\", \"weights\": \"distance\"},\n",
        "    {\"n_neighbors\": 15, \"metric\": \"euclidean\", \"weights\": \"distance\"}\n",
        "]"
      ],
      "metadata": {
        "id": "2yeLyxCWB35p"
      },
      "id": "2yeLyxCWB35p",
      "execution_count": null,
      "outputs": []
    },
    {
      "cell_type": "code",
      "source": [
        "logreg_configs = [\n",
        "    {\"max_iter\": 1000, \"solver\": \"lbfgs\"},\n",
        "    {\"max_iter\": 1000, \"solver\": \"saga\"},\n",
        "    {\"max_iter\": 1000, \"solver\": \"liblinear\"}\n",
        "]"
      ],
      "metadata": {
        "id": "khcLAWa_Opx0"
      },
      "id": "khcLAWa_Opx0",
      "execution_count": null,
      "outputs": []
    },
    {
      "cell_type": "code",
      "source": [
        "def evaluate_and_print(model, X_train, y_train, X_val, y_val, model_name, rep_name, config):\n",
        "    print(\"--------------------------------------------------------------------------------------\")\n",
        "    print(f\"\\n Model: {model_name}, Embedding: {rep_name}, Config: {config}\")\n",
        "    print(\"--------------------------------------------------------------------------------------\")\n",
        "\n",
        "    results = {}\n",
        "\n",
        "    # --- TRAINING METRICS ---\n",
        "    y_train_pred = model.predict(X_train)\n",
        "    train_acc = accuracy_score(y_train, y_train_pred)\n",
        "    train_report = classification_report(y_train, y_train_pred, target_names=['bearish', 'bullish', 'neutral'], output_dict=True)\n",
        "\n",
        "    print(\"\\n📘 TRAINING METRICS\")\n",
        "    print(f\"Accuracy: {train_acc:.4f}\")\n",
        "    for label in ['bearish', 'bullish', 'neutral']:\n",
        "        metrics = train_report[label]\n",
        "        print(f\"\\nClass: {label}\")\n",
        "        print(f\"  Precision: {metrics['precision']:.4f}\")\n",
        "        print(f\"  Recall:    {metrics['recall']:.4f}\")\n",
        "        print(f\"  F1-score:  {metrics['f1-score']:.4f}\")\n",
        "    print(f\"\\nMacro Avg F1-score: {train_report['macro avg']['f1-score']:.4f}\")\n",
        "\n",
        "    # --- VALIDATION METRICS ---\n",
        "    y_val_pred = model.predict(X_val)\n",
        "    val_acc = accuracy_score(y_val, y_val_pred)\n",
        "    val_report = classification_report(y_val, y_val_pred, target_names=['bearish', 'bullish', 'neutral'], output_dict=True)\n",
        "\n",
        "    print(\"\\n📗 VALIDATION METRICS\")\n",
        "    print(f\"Accuracy: {val_acc:.4f}\")\n",
        "    for label in ['bearish', 'bullish', 'neutral']:\n",
        "        metrics = val_report[label]\n",
        "        print(f\"\\nClass: {label}\")\n",
        "        print(f\"  Precision: {metrics['precision']:.4f}\")\n",
        "        print(f\"  Recall:    {metrics['recall']:.4f}\")\n",
        "        print(f\"  F1-score:  {metrics['f1-score']:.4f}\")\n",
        "    print(f\"\\nMacro Avg F1-score: {val_report['macro avg']['f1-score']:.4f}\")\n",
        "\n",
        "    # --- CONFUSION MATRIX (Validation) ---\n",
        "    cm = confusion_matrix(y_val, y_val_pred)\n",
        "    disp = ConfusionMatrixDisplay(confusion_matrix=cm, display_labels=['bearish', 'bullish', 'neutral'])\n",
        "    fig, ax = plt.subplots(figsize=(5.5, 4.5))\n",
        "    disp.plot(ax=ax, colorbar=False)\n",
        "    ax.set_title(f\"Confusion Matrix - {model_name} + {rep_name}\")\n",
        "    plt.tight_layout()\n",
        "    plt.show()\n",
        "\n",
        "    # --- Return all scores for storage ---\n",
        "    results = {\n",
        "        \"model\": model_name,\n",
        "        \"embedding\": rep_name,\n",
        "        \"config\": config,\n",
        "        \"train_acc\": train_acc,\n",
        "        \"val_acc\": val_acc,\n",
        "        \"train_f1\": train_report[\"macro avg\"][\"f1-score\"],\n",
        "        \"val_f1\": val_report[\"macro avg\"][\"f1-score\"],\n",
        "        \"f1_gap\": train_report[\"macro avg\"][\"f1-score\"] - val_report[\"macro avg\"][\"f1-score\"]\n",
        "    }\n",
        "\n",
        "    return results\n",
        "\n"
      ],
      "metadata": {
        "id": "-DVfERvFBtX3"
      },
      "id": "-DVfERvFBtX3",
      "execution_count": null,
      "outputs": []
    },
    {
      "cell_type": "markdown",
      "id": "03fcf87a",
      "metadata": {
        "id": "03fcf87a"
      },
      "source": [
        "## 8.2. KNN Classifier"
      ]
    },
    {
      "cell_type": "code",
      "source": [
        "results = []\n",
        "\n",
        "for rep_name, (X_train, X_val) in feature_sets.items():\n",
        "    for config in knn_configs:\n",
        "        # Initialize model with current hyperparameters\n",
        "        knn = KNeighborsClassifier(**config)\n",
        "        # Train and predict\n",
        "        knn.fit(X_train, y_train)\n",
        "        y_pred = knn.predict(X_val)\n",
        "        # Evaluate\n",
        "        acc = evaluate_and_print(knn, X_train, y_train, X_val, y_val, \"KNN\", rep_name, config)\n",
        "        results.append({\n",
        "            \"embedding\": rep_name,\n",
        "            \"config\": config,\n",
        "            \"accuracy\": acc\n",
        "        })\n"
      ],
      "metadata": {
        "colab": {
          "base_uri": "https://localhost:8080/",
          "height": 1000
        },
        "id": "WG7GAc6HCkql",
        "outputId": "df0322a4-1a77-475c-a34d-d1f5b89c278e"
      },
      "id": "WG7GAc6HCkql",
      "execution_count": null,
      "outputs": [
        {
          "output_type": "stream",
          "name": "stdout",
          "text": [
            "--------------------------------------------------------------------------------------\n",
            "\n",
            " Model: KNN, Embedding: BoW, Config: {'n_neighbors': 5, 'metric': 'cosine', 'weights': 'uniform'}\n",
            "--------------------------------------------------------------------------------------\n",
            "\n",
            "📘 TRAINING METRICS\n",
            "Accuracy: 0.8267\n",
            "\n",
            "Class: bearish\n",
            "  Precision: 0.7053\n",
            "  Recall:    0.5953\n",
            "  F1-score:  0.6457\n",
            "\n",
            "Class: bullish\n",
            "  Precision: 0.7153\n",
            "  Recall:    0.7334\n",
            "  F1-score:  0.7242\n",
            "\n",
            "Class: neutral\n",
            "  Precision: 0.8845\n",
            "  Recall:    0.9098\n",
            "  F1-score:  0.8970\n",
            "\n",
            "Macro Avg F1-score: 0.7556\n",
            "\n",
            "📗 VALIDATION METRICS\n",
            "Accuracy: 0.7360\n",
            "\n",
            "Class: bearish\n",
            "  Precision: 0.5323\n",
            "  Recall:    0.4583\n",
            "  F1-score:  0.4925\n",
            "\n",
            "Class: bullish\n",
            "  Precision: 0.5550\n",
            "  Recall:    0.6156\n",
            "  F1-score:  0.5837\n",
            "\n",
            "Class: neutral\n",
            "  Precision: 0.8395\n",
            "  Recall:    0.8382\n",
            "  F1-score:  0.8389\n",
            "\n",
            "Macro Avg F1-score: 0.6384\n"
          ]
        },
        {
          "output_type": "display_data",
          "data": {
            "text/plain": [
              "<Figure size 550x450 with 1 Axes>"
            ],
            "image/png": "[encoded data removed]"
          },
          "metadata": {}
        },
        {
          "output_type": "stream",
          "name": "stdout",
          "text": [
            "--------------------------------------------------------------------------------------\n",
            "\n",
            " Model: KNN, Embedding: BoW, Config: {'n_neighbors': 10, 'metric': 'cosine', 'weights': 'distance'}\n",
            "--------------------------------------------------------------------------------------\n",
            "\n",
            "📘 TRAINING METRICS\n",
            "Accuracy: 0.9984\n",
            "\n",
            "Class: bearish\n",
            "  Precision: 0.9974\n",
            "  Recall:    0.9965\n",
            "  F1-score:  0.9970\n",
            "\n",
            "Class: bullish\n",
            "  Precision: 0.9955\n",
            "  Recall:    0.9974\n",
            "  F1-score:  0.9964\n",
            "\n",
            "Class: neutral\n",
            "  Precision: 0.9996\n",
            "  Recall:    0.9992\n",
            "  F1-score:  0.9994\n",
            "\n",
            "Macro Avg F1-score: 0.9976\n",
            "\n",
            "📗 VALIDATION METRICS\n",
            "Accuracy: 0.7768\n",
            "\n",
            "Class: bearish\n",
            "  Precision: 0.7103\n",
            "  Recall:    0.3576\n",
            "  F1-score:  0.4758\n",
            "\n",
            "Class: bullish\n",
            "  Precision: 0.6556\n",
            "  Recall:    0.6182\n",
            "  F1-score:  0.6364\n",
            "\n",
            "Class: neutral\n",
            "  Precision: 0.8151\n",
            "  Recall:    0.9239\n",
            "  F1-score:  0.8661\n",
            "\n",
            "Macro Avg F1-score: 0.6594\n"
          ]
        },
        {
          "output_type": "display_data",
          "data": {
            "text/plain": [
              "<Figure size 550x450 with 1 Axes>"
            ],
            "image/png": "[encoded data removed]"
          },
          "metadata": {}
        },
        {
          "output_type": "stream",
          "name": "stdout",
          "text": [
            "--------------------------------------------------------------------------------------\n",
            "\n",
            " Model: KNN, Embedding: BoW, Config: {'n_neighbors': 15, 'metric': 'euclidean', 'weights': 'distance'}\n",
            "--------------------------------------------------------------------------------------\n",
            "\n",
            "📘 TRAINING METRICS\n",
            "Accuracy: 0.9984\n",
            "\n",
            "Class: bearish\n",
            "  Precision: 0.9957\n",
            "  Recall:    0.9983\n",
            "  F1-score:  0.9970\n",
            "\n",
            "Class: bullish\n",
            "  Precision: 0.9955\n",
            "  Recall:    0.9974\n",
            "  F1-score:  0.9964\n",
            "\n",
            "Class: neutral\n",
            "  Precision: 1.0000\n",
            "  Recall:    0.9988\n",
            "  F1-score:  0.9994\n",
            "\n",
            "Macro Avg F1-score: 0.9976\n",
            "\n",
            "📗 VALIDATION METRICS\n",
            "Accuracy: 0.6852\n",
            "\n",
            "Class: bearish\n",
            "  Precision: 0.7600\n",
            "  Recall:    0.0660\n",
            "  F1-score:  0.1214\n",
            "\n",
            "Class: bullish\n",
            "  Precision: 0.8788\n",
            "  Recall:    0.1506\n",
            "  F1-score:  0.2572\n",
            "\n",
            "Class: neutral\n",
            "  Precision: 0.6771\n",
            "  Recall:    0.9960\n",
            "  F1-score:  0.8062\n",
            "\n",
            "Macro Avg F1-score: 0.3949\n"
          ]
        },
        {
          "output_type": "display_data",
          "data": {
            "text/plain": [
              "<Figure size 550x450 with 1 Axes>"
            ],
            "image/png": "[encoded data removed]"
          },
          "metadata": {}
        },
        {
          "output_type": "stream",
          "name": "stdout",
          "text": [
            "--------------------------------------------------------------------------------------\n",
            "\n",
            " Model: KNN, Embedding: Word2Vec, Config: {'n_neighbors': 5, 'metric': 'cosine', 'weights': 'uniform'}\n",
            "--------------------------------------------------------------------------------------\n",
            "\n",
            "📘 TRAINING METRICS\n",
            "Accuracy: 0.7655\n",
            "\n",
            "Class: bearish\n",
            "  Precision: 0.5444\n",
            "  Recall:    0.5043\n",
            "  F1-score:  0.5236\n",
            "\n",
            "Class: bullish\n",
            "  Precision: 0.6358\n",
            "  Recall:    0.5618\n",
            "  F1-score:  0.5965\n",
            "\n",
            "Class: neutral\n",
            "  Precision: 0.8448\n",
            "  Recall:    0.8899\n",
            "  F1-score:  0.8668\n",
            "\n",
            "Macro Avg F1-score: 0.6623\n",
            "\n",
            "📗 VALIDATION METRICS\n",
            "Accuracy: 0.6370\n",
            "\n",
            "Class: bearish\n",
            "  Precision: 0.2989\n",
            "  Recall:    0.2812\n",
            "  F1-score:  0.2898\n",
            "\n",
            "Class: bullish\n",
            "  Precision: 0.4298\n",
            "  Recall:    0.3896\n",
            "  F1-score:  0.4087\n",
            "\n",
            "Class: neutral\n",
            "  Precision: 0.7642\n",
            "  Recall:    0.7969\n",
            "  F1-score:  0.7802\n",
            "\n",
            "Macro Avg F1-score: 0.4929\n"
          ]
        },
        {
          "output_type": "display_data",
          "data": {
            "text/plain": [
              "<Figure size 550x450 with 1 Axes>"
            ],
            "image/png": "[encoded data removed]"
          },
          "metadata": {}
        },
        {
          "output_type": "stream",
          "name": "stdout",
          "text": [
            "--------------------------------------------------------------------------------------\n",
            "\n",
            " Model: KNN, Embedding: Word2Vec, Config: {'n_neighbors': 10, 'metric': 'cosine', 'weights': 'distance'}\n",
            "--------------------------------------------------------------------------------------\n",
            "\n",
            "📘 TRAINING METRICS\n",
            "Accuracy: 0.9988\n",
            "\n",
            "Class: bearish\n",
            "  Precision: 0.9965\n",
            "  Recall:    0.9983\n",
            "  F1-score:  0.9974\n",
            "\n",
            "Class: bullish\n",
            "  Precision: 0.9968\n",
            "  Recall:    0.9974\n",
            "  F1-score:  0.9971\n",
            "\n",
            "Class: neutral\n",
            "  Precision: 1.0000\n",
            "  Recall:    0.9994\n",
            "  F1-score:  0.9997\n",
            "\n",
            "Macro Avg F1-score: 0.9981\n",
            "\n",
            "📗 VALIDATION METRICS\n",
            "Accuracy: 0.6805\n",
            "\n",
            "Class: bearish\n",
            "  Precision: 0.3519\n",
            "  Recall:    0.1979\n",
            "  F1-score:  0.2533\n",
            "\n",
            "Class: bullish\n",
            "  Precision: 0.4910\n",
            "  Recall:    0.3558\n",
            "  F1-score:  0.4127\n",
            "\n",
            "Class: neutral\n",
            "  Precision: 0.7527\n",
            "  Recall:    0.8940\n",
            "  F1-score:  0.8173\n",
            "\n",
            "Macro Avg F1-score: 0.4944\n"
          ]
        },
        {
          "output_type": "display_data",
          "data": {
            "text/plain": [
              "<Figure size 550x450 with 1 Axes>"
            ],
            "image/png": "[encoded data removed]"
          },
          "metadata": {}
        },
        {
          "output_type": "stream",
          "name": "stdout",
          "text": [
            "--------------------------------------------------------------------------------------\n",
            "\n",
            " Model: KNN, Embedding: Word2Vec, Config: {'n_neighbors': 15, 'metric': 'euclidean', 'weights': 'distance'}\n",
            "--------------------------------------------------------------------------------------\n",
            "\n",
            "📘 TRAINING METRICS\n",
            "Accuracy: 0.9988\n",
            "\n",
            "Class: bearish\n",
            "  Precision: 0.9974\n",
            "  Recall:    0.9974\n",
            "  F1-score:  0.9974\n",
            "\n",
            "Class: bullish\n",
            "  Precision: 0.9968\n",
            "  Recall:    0.9974\n",
            "  F1-score:  0.9971\n",
            "\n",
            "Class: neutral\n",
            "  Precision: 0.9998\n",
            "  Recall:    0.9996\n",
            "  F1-score:  0.9997\n",
            "\n",
            "Macro Avg F1-score: 0.9981\n",
            "\n",
            "📗 VALIDATION METRICS\n",
            "Accuracy: 0.6752\n",
            "\n",
            "Class: bearish\n",
            "  Precision: 0.3763\n",
            "  Recall:    0.1215\n",
            "  F1-score:  0.1837\n",
            "\n",
            "Class: bullish\n",
            "  Precision: 0.4695\n",
            "  Recall:    0.3195\n",
            "  F1-score:  0.3802\n",
            "\n",
            "Class: neutral\n",
            "  Precision: 0.7278\n",
            "  Recall:    0.9150\n",
            "  F1-score:  0.8108\n",
            "\n",
            "Macro Avg F1-score: 0.4582\n"
          ]
        },
        {
          "output_type": "display_data",
          "data": {
            "text/plain": [
              "<Figure size 550x450 with 1 Axes>"
            ],
            "image/png": "[encoded data removed]"
          },
          "metadata": {}
        },
        {
          "output_type": "stream",
          "name": "stdout",
          "text": [
            "--------------------------------------------------------------------------------------\n",
            "\n",
            " Model: KNN, Embedding: GloVe, Config: {'n_neighbors': 5, 'metric': 'cosine', 'weights': 'uniform'}\n",
            "--------------------------------------------------------------------------------------\n",
            "\n",
            "📘 TRAINING METRICS\n",
            "Accuracy: 0.8064\n",
            "\n",
            "Class: bearish\n",
            "  Precision: 0.6513\n",
            "  Recall:    0.5763\n",
            "  F1-score:  0.6115\n",
            "\n",
            "Class: bullish\n",
            "  Precision: 0.6803\n",
            "  Recall:    0.6944\n",
            "  F1-score:  0.6873\n",
            "\n",
            "Class: neutral\n",
            "  Precision: 0.8771\n",
            "  Recall:    0.8950\n",
            "  F1-score:  0.8859\n",
            "\n",
            "Macro Avg F1-score: 0.7282\n",
            "\n",
            "📗 VALIDATION METRICS\n",
            "Accuracy: 0.7103\n",
            "\n",
            "Class: bearish\n",
            "  Precision: 0.4240\n",
            "  Recall:    0.3681\n",
            "  F1-score:  0.3941\n",
            "\n",
            "Class: bullish\n",
            "  Precision: 0.5227\n",
            "  Recall:    0.5377\n",
            "  F1-score:  0.5301\n",
            "\n",
            "Class: neutral\n",
            "  Precision: 0.8258\n",
            "  Recall:    0.8439\n",
            "  F1-score:  0.8347\n",
            "\n",
            "Macro Avg F1-score: 0.5863\n"
          ]
        },
        {
          "output_type": "display_data",
          "data": {
            "text/plain": [
              "<Figure size 550x450 with 1 Axes>"
            ],
            "image/png": "[encoded data removed]"
          },
          "metadata": {}
        },
        {
          "output_type": "stream",
          "name": "stdout",
          "text": [
            "--------------------------------------------------------------------------------------\n",
            "\n",
            " Model: KNN, Embedding: GloVe, Config: {'n_neighbors': 10, 'metric': 'cosine', 'weights': 'distance'}\n",
            "--------------------------------------------------------------------------------------\n",
            "\n",
            "📘 TRAINING METRICS\n",
            "Accuracy: 0.9992\n",
            "\n",
            "Class: bearish\n",
            "  Precision: 0.9974\n",
            "  Recall:    1.0000\n",
            "  F1-score:  0.9987\n",
            "\n",
            "Class: bullish\n",
            "  Precision: 0.9981\n",
            "  Recall:    0.9987\n",
            "  F1-score:  0.9984\n",
            "\n",
            "Class: neutral\n",
            "  Precision: 1.0000\n",
            "  Recall:    0.9992\n",
            "  F1-score:  0.9996\n",
            "\n",
            "Macro Avg F1-score: 0.9989\n",
            "\n",
            "📗 VALIDATION METRICS\n",
            "Accuracy: 0.7533\n",
            "\n",
            "Class: bearish\n",
            "  Precision: 0.5862\n",
            "  Recall:    0.3542\n",
            "  F1-score:  0.4416\n",
            "\n",
            "Class: bullish\n",
            "  Precision: 0.6212\n",
            "  Recall:    0.5325\n",
            "  F1-score:  0.5734\n",
            "\n",
            "Class: neutral\n",
            "  Precision: 0.8050\n",
            "  Recall:    0.9150\n",
            "  F1-score:  0.8565\n",
            "\n",
            "Macro Avg F1-score: 0.6238\n"
          ]
        },
        {
          "output_type": "display_data",
          "data": {
            "text/plain": [
              "<Figure size 550x450 with 1 Axes>"
            ],
            "image/png": "[encoded data removed]"
          },
          "metadata": {}
        },
        {
          "output_type": "stream",
          "name": "stdout",
          "text": [
            "--------------------------------------------------------------------------------------\n",
            "\n",
            " Model: KNN, Embedding: GloVe, Config: {'n_neighbors': 15, 'metric': 'euclidean', 'weights': 'distance'}\n",
            "--------------------------------------------------------------------------------------\n",
            "\n",
            "📘 TRAINING METRICS\n",
            "Accuracy: 0.9986\n",
            "\n",
            "Class: bearish\n",
            "  Precision: 0.9974\n",
            "  Recall:    0.9965\n",
            "  F1-score:  0.9970\n",
            "\n",
            "Class: bullish\n",
            "  Precision: 0.9974\n",
            "  Recall:    0.9961\n",
            "  F1-score:  0.9967\n",
            "\n",
            "Class: neutral\n",
            "  Precision: 0.9992\n",
            "  Recall:    0.9998\n",
            "  F1-score:  0.9995\n",
            "\n",
            "Macro Avg F1-score: 0.9977\n",
            "\n",
            "📗 VALIDATION METRICS\n",
            "Accuracy: 0.7465\n",
            "\n",
            "Class: bearish\n",
            "  Precision: 0.6154\n",
            "  Recall:    0.3056\n",
            "  F1-score:  0.4084\n",
            "\n",
            "Class: bullish\n",
            "  Precision: 0.6144\n",
            "  Recall:    0.5091\n",
            "  F1-score:  0.5568\n",
            "\n",
            "Class: neutral\n",
            "  Precision: 0.7885\n",
            "  Recall:    0.9231\n",
            "  F1-score:  0.8505\n",
            "\n",
            "Macro Avg F1-score: 0.6052\n"
          ]
        },
        {
          "output_type": "display_data",
          "data": {
            "text/plain": [
              "<Figure size 550x450 with 1 Axes>"
            ],
            "image/png": "[encoded data removed]"
          },
          "metadata": {}
        },
        {
          "output_type": "stream",
          "name": "stdout",
          "text": [
            "--------------------------------------------------------------------------------------\n",
            "\n",
            " Model: KNN, Embedding: Transformer, Config: {'n_neighbors': 5, 'metric': 'cosine', 'weights': 'uniform'}\n",
            "--------------------------------------------------------------------------------------\n",
            "\n",
            "📘 TRAINING METRICS\n",
            "Accuracy: 0.8026\n",
            "\n",
            "Class: bearish\n",
            "  Precision: 0.6208\n",
            "  Recall:    0.7080\n",
            "  F1-score:  0.6615\n",
            "\n",
            "Class: bullish\n",
            "  Precision: 0.6986\n",
            "  Recall:    0.6632\n",
            "  F1-score:  0.6805\n",
            "\n",
            "Class: neutral\n",
            "  Precision: 0.8831\n",
            "  Recall:    0.8681\n",
            "  F1-score:  0.8755\n",
            "\n",
            "Macro Avg F1-score: 0.7392\n",
            "\n",
            "📗 VALIDATION METRICS\n",
            "Accuracy: 0.7203\n",
            "\n",
            "Class: bearish\n",
            "  Precision: 0.4806\n",
            "  Recall:    0.5590\n",
            "  F1-score:  0.5169\n",
            "\n",
            "Class: bullish\n",
            "  Precision: 0.6096\n",
            "  Recall:    0.5273\n",
            "  F1-score:  0.5655\n",
            "\n",
            "Class: neutral\n",
            "  Precision: 0.8147\n",
            "  Recall:    0.8180\n",
            "  F1-score:  0.8163\n",
            "\n",
            "Macro Avg F1-score: 0.6329\n"
          ]
        },
        {
          "output_type": "display_data",
          "data": {
            "text/plain": [
              "<Figure size 550x450 with 1 Axes>"
            ],
            "image/png": "[encoded data removed]"
          },
          "metadata": {}
        },
        {
          "output_type": "stream",
          "name": "stdout",
          "text": [
            "--------------------------------------------------------------------------------------\n",
            "\n",
            " Model: KNN, Embedding: Transformer, Config: {'n_neighbors': 10, 'metric': 'cosine', 'weights': 'distance'}\n",
            "--------------------------------------------------------------------------------------\n",
            "\n",
            "📘 TRAINING METRICS\n",
            "Accuracy: 0.9988\n",
            "\n",
            "Class: bearish\n",
            "  Precision: 0.9974\n",
            "  Recall:    0.9974\n",
            "  F1-score:  0.9974\n",
            "\n",
            "Class: bullish\n",
            "  Precision: 0.9961\n",
            "  Recall:    0.9980\n",
            "  F1-score:  0.9971\n",
            "\n",
            "Class: neutral\n",
            "  Precision: 1.0000\n",
            "  Recall:    0.9994\n",
            "  F1-score:  0.9997\n",
            "\n",
            "Macro Avg F1-score: 0.9981\n",
            "\n",
            "📗 VALIDATION METRICS\n",
            "Accuracy: 0.7423\n",
            "\n",
            "Class: bearish\n",
            "  Precision: 0.5357\n",
            "  Recall:    0.5208\n",
            "  F1-score:  0.5282\n",
            "\n",
            "Class: bullish\n",
            "  Precision: 0.6771\n",
            "  Recall:    0.5065\n",
            "  F1-score:  0.5795\n",
            "\n",
            "Class: neutral\n",
            "  Precision: 0.7994\n",
            "  Recall:    0.8673\n",
            "  F1-score:  0.8320\n",
            "\n",
            "Macro Avg F1-score: 0.6465\n"
          ]
        },
        {
          "output_type": "display_data",
          "data": {
            "text/plain": [
              "<Figure size 550x450 with 1 Axes>"
            ],
            "image/png": "[encoded data removed]"
          },
          "metadata": {}
        },
        {
          "output_type": "stream",
          "name": "stdout",
          "text": [
            "--------------------------------------------------------------------------------------\n",
            "\n",
            " Model: KNN, Embedding: Transformer, Config: {'n_neighbors': 15, 'metric': 'euclidean', 'weights': 'distance'}\n",
            "--------------------------------------------------------------------------------------\n",
            "\n",
            "📘 TRAINING METRICS\n",
            "Accuracy: 0.9988\n",
            "\n",
            "Class: bearish\n",
            "  Precision: 0.9983\n",
            "  Recall:    0.9965\n",
            "  F1-score:  0.9974\n",
            "\n",
            "Class: bullish\n",
            "  Precision: 0.9961\n",
            "  Recall:    0.9980\n",
            "  F1-score:  0.9971\n",
            "\n",
            "Class: neutral\n",
            "  Precision: 0.9998\n",
            "  Recall:    0.9996\n",
            "  F1-score:  0.9997\n",
            "\n",
            "Macro Avg F1-score: 0.9981\n",
            "\n",
            "📗 VALIDATION METRICS\n",
            "Accuracy: 0.7402\n",
            "\n",
            "Class: bearish\n",
            "  Precision: 0.5363\n",
            "  Recall:    0.4618\n",
            "  F1-score:  0.4963\n",
            "\n",
            "Class: bullish\n",
            "  Precision: 0.6844\n",
            "  Recall:    0.4675\n",
            "  F1-score:  0.5556\n",
            "\n",
            "Class: neutral\n",
            "  Precision: 0.7868\n",
            "  Recall:    0.8900\n",
            "  F1-score:  0.8352\n",
            "\n",
            "Macro Avg F1-score: 0.6290\n"
          ]
        },
        {
          "output_type": "display_data",
          "data": {
            "text/plain": [
              "<Figure size 550x450 with 1 Axes>"
            ],
            "image/png": "[encoded data removed]"
          },
          "metadata": {}
        }
      ]
    },
    {
      "cell_type": "markdown",
      "id": "f53230c1",
      "metadata": {
        "id": "f53230c1"
      },
      "source": [
        "## 8.3 Logistic Regression"
      ]
    },
    {
      "cell_type": "code",
      "source": [
        "from sklearn.linear_model import LogisticRegression"
      ],
      "metadata": {
        "id": "FrOm751NPVss"
      },
      "id": "FrOm751NPVss",
      "execution_count": null,
      "outputs": []
    },
    {
      "cell_type": "code",
      "source": [
        "results_logreg = []\n",
        "\n",
        "for rep_name, (X_train, X_val) in feature_sets.items():\n",
        "    for config in logreg_configs:\n",
        "        clf = LogisticRegression(**config)\n",
        "        clf.fit(X_train, y_train)\n",
        "        result = evaluate_and_print(clf, X_train, y_train, X_val, y_val, \"Logistic Regression\", rep_name, config)\n",
        "        results_logreg.append(result)"
      ],
      "metadata": {
        "colab": {
          "base_uri": "https://localhost:8080/",
          "height": 1000
        },
        "id": "wlX3Sj0LPE15",
        "outputId": "cf5f4db8-8746-4ee4-ec91-a6ab712bc119"
      },
      "id": "wlX3Sj0LPE15",
      "execution_count": null,
      "outputs": [
        {
          "output_type": "stream",
          "name": "stdout",
          "text": [
            "--------------------------------------------------------------------------------------\n",
            "\n",
            " Model: Logistic Regression, Embedding: BoW, Config: {'max_iter': 1000, 'solver': 'lbfgs'}\n",
            "--------------------------------------------------------------------------------------\n",
            "\n",
            "📘 TRAINING METRICS\n",
            "Accuracy: 0.9766\n",
            "\n",
            "Class: bearish\n",
            "  Precision: 0.9827\n",
            "  Recall:    0.9341\n",
            "  F1-score:  0.9578\n",
            "\n",
            "Class: bullish\n",
            "  Precision: 0.9748\n",
            "  Recall:    0.9538\n",
            "  F1-score:  0.9642\n",
            "\n",
            "Class: neutral\n",
            "  Precision: 0.9758\n",
            "  Recall:    0.9935\n",
            "  F1-score:  0.9846\n",
            "\n",
            "Macro Avg F1-score: 0.9688\n",
            "\n",
            "📗 VALIDATION METRICS\n",
            "Accuracy: 0.7826\n",
            "\n",
            "Class: bearish\n",
            "  Precision: 0.6533\n",
            "  Recall:    0.4514\n",
            "  F1-score:  0.5339\n",
            "\n",
            "Class: bullish\n",
            "  Precision: 0.7356\n",
            "  Recall:    0.5636\n",
            "  F1-score:  0.6382\n",
            "\n",
            "Class: neutral\n",
            "  Precision: 0.8106\n",
            "  Recall:    0.9280\n",
            "  F1-score:  0.8653\n",
            "\n",
            "Macro Avg F1-score: 0.6792\n"
          ]
        },
        {
          "output_type": "display_data",
          "data": {
            "text/plain": [
              "<Figure size 550x450 with 1 Axes>"
            ],
            "image/png": "[encoded data removed]"
          },
          "metadata": {}
        },
        {
          "output_type": "stream",
          "name": "stdout",
          "text": [
            "--------------------------------------------------------------------------------------\n",
            "\n",
            " Model: Logistic Regression, Embedding: BoW, Config: {'max_iter': 1000, 'solver': 'saga'}\n",
            "--------------------------------------------------------------------------------------\n",
            "\n",
            "📘 TRAINING METRICS\n",
            "Accuracy: 0.9771\n",
            "\n",
            "Class: bearish\n",
            "  Precision: 0.9827\n",
            "  Recall:    0.9359\n",
            "  F1-score:  0.9587\n",
            "\n",
            "Class: bullish\n",
            "  Precision: 0.9754\n",
            "  Recall:    0.9551\n",
            "  F1-score:  0.9652\n",
            "\n",
            "Class: neutral\n",
            "  Precision: 0.9763\n",
            "  Recall:    0.9935\n",
            "  F1-score:  0.9849\n",
            "\n",
            "Macro Avg F1-score: 0.9696\n",
            "\n",
            "📗 VALIDATION METRICS\n",
            "Accuracy: 0.7831\n",
            "\n",
            "Class: bearish\n",
            "  Precision: 0.6567\n",
            "  Recall:    0.4583\n",
            "  F1-score:  0.5399\n",
            "\n",
            "Class: bullish\n",
            "  Precision: 0.7273\n",
            "  Recall:    0.5610\n",
            "  F1-score:  0.6334\n",
            "\n",
            "Class: neutral\n",
            "  Precision: 0.8129\n",
            "  Recall:    0.9280\n",
            "  F1-score:  0.8666\n",
            "\n",
            "Macro Avg F1-score: 0.6800\n"
          ]
        },
        {
          "output_type": "display_data",
          "data": {
            "text/plain": [
              "<Figure size 550x450 with 1 Axes>"
            ],
            "image/png": "[encoded data removed]"
          },
          "metadata": {}
        },
        {
          "output_type": "stream",
          "name": "stdout",
          "text": [
            "--------------------------------------------------------------------------------------\n",
            "\n",
            " Model: Logistic Regression, Embedding: BoW, Config: {'max_iter': 1000, 'solver': 'liblinear'}\n",
            "--------------------------------------------------------------------------------------\n",
            "\n",
            "📘 TRAINING METRICS\n",
            "Accuracy: 0.9498\n",
            "\n",
            "Class: bearish\n",
            "  Precision: 0.9706\n",
            "  Recall:    0.8579\n",
            "  F1-score:  0.9108\n",
            "\n",
            "Class: bullish\n",
            "  Precision: 0.9542\n",
            "  Recall:    0.8947\n",
            "  F1-score:  0.9235\n",
            "\n",
            "Class: neutral\n",
            "  Precision: 0.9445\n",
            "  Recall:    0.9885\n",
            "  F1-score:  0.9660\n",
            "\n",
            "Macro Avg F1-score: 0.9334\n",
            "\n",
            "📗 VALIDATION METRICS\n",
            "Accuracy: 0.7847\n",
            "\n",
            "Class: bearish\n",
            "  Precision: 0.6959\n",
            "  Recall:    0.4132\n",
            "  F1-score:  0.5185\n",
            "\n",
            "Class: bullish\n",
            "  Precision: 0.7721\n",
            "  Recall:    0.5455\n",
            "  F1-score:  0.6393\n",
            "\n",
            "Class: neutral\n",
            "  Precision: 0.7974\n",
            "  Recall:    0.9458\n",
            "  F1-score:  0.8653\n",
            "\n",
            "Macro Avg F1-score: 0.6744\n"
          ]
        },
        {
          "output_type": "display_data",
          "data": {
            "text/plain": [
              "<Figure size 550x450 with 1 Axes>"
            ],
            "image/png": "[encoded data removed]"
          },
          "metadata": {}
        },
        {
          "output_type": "stream",
          "name": "stdout",
          "text": [
            "--------------------------------------------------------------------------------------\n",
            "\n",
            " Model: Logistic Regression, Embedding: Word2Vec, Config: {'max_iter': 1000, 'solver': 'lbfgs'}\n",
            "--------------------------------------------------------------------------------------\n",
            "\n",
            "📘 TRAINING METRICS\n",
            "Accuracy: 0.6677\n",
            "\n",
            "Class: bearish\n",
            "  Precision: 0.0000\n",
            "  Recall:    0.0000\n",
            "  F1-score:  0.0000\n",
            "\n",
            "Class: bullish\n",
            "  Precision: 0.5157\n",
            "  Recall:    0.2035\n",
            "  F1-score:  0.2918\n",
            "\n",
            "Class: neutral\n",
            "  Precision: 0.6808\n",
            "  Recall:    0.9680\n",
            "  F1-score:  0.7994\n",
            "\n",
            "Macro Avg F1-score: 0.3637\n",
            "\n",
            "📗 VALIDATION METRICS\n",
            "Accuracy: 0.6606\n",
            "\n",
            "Class: bearish\n",
            "  Precision: 0.0000\n",
            "  Recall:    0.0000\n",
            "  F1-score:  0.0000\n",
            "\n",
            "Class: bullish\n",
            "  Precision: 0.4607\n",
            "  Recall:    0.2130\n",
            "  F1-score:  0.2913\n",
            "\n",
            "Class: neutral\n",
            "  Precision: 0.6811\n",
            "  Recall:    0.9539\n",
            "  F1-score:  0.7947\n",
            "\n",
            "Macro Avg F1-score: 0.3620\n"
          ]
        },
        {
          "output_type": "stream",
          "name": "stderr",
          "text": [
            "/usr/local/lib/python3.11/dist-packages/sklearn/metrics/_classification.py:1565: UndefinedMetricWarning: Precision is ill-defined and being set to 0.0 in labels with no predicted samples. Use `zero_division` parameter to control this behavior.\n",
            "  _warn_prf(average, modifier, f\"{metric.capitalize()} is\", len(result))\n",
            "/usr/local/lib/python3.11/dist-packages/sklearn/metrics/_classification.py:1565: UndefinedMetricWarning: Precision is ill-defined and being set to 0.0 in labels with no predicted samples. Use `zero_division` parameter to control this behavior.\n",
            "  _warn_prf(average, modifier, f\"{metric.capitalize()} is\", len(result))\n",
            "/usr/local/lib/python3.11/dist-packages/sklearn/metrics/_classification.py:1565: UndefinedMetricWarning: Precision is ill-defined and being set to 0.0 in labels with no predicted samples. Use `zero_division` parameter to control this behavior.\n",
            "  _warn_prf(average, modifier, f\"{metric.capitalize()} is\", len(result))\n",
            "/usr/local/lib/python3.11/dist-packages/sklearn/metrics/_classification.py:1565: UndefinedMetricWarning: Precision is ill-defined and being set to 0.0 in labels with no predicted samples. Use `zero_division` parameter to control this behavior.\n",
            "  _warn_prf(average, modifier, f\"{metric.capitalize()} is\", len(result))\n",
            "/usr/local/lib/python3.11/dist-packages/sklearn/metrics/_classification.py:1565: UndefinedMetricWarning: Precision is ill-defined and being set to 0.0 in labels with no predicted samples. Use `zero_division` parameter to control this behavior.\n",
            "  _warn_prf(average, modifier, f\"{metric.capitalize()} is\", len(result))\n",
            "/usr/local/lib/python3.11/dist-packages/sklearn/metrics/_classification.py:1565: UndefinedMetricWarning: Precision is ill-defined and being set to 0.0 in labels with no predicted samples. Use `zero_division` parameter to control this behavior.\n",
            "  _warn_prf(average, modifier, f\"{metric.capitalize()} is\", len(result))\n"
          ]
        },
        {
          "output_type": "display_data",
          "data": {
            "text/plain": [
              "<Figure size 550x450 with 1 Axes>"
            ],
            "image/png": "[encoded data removed]"
          },
          "metadata": {}
        },
        {
          "output_type": "stream",
          "name": "stdout",
          "text": [
            "--------------------------------------------------------------------------------------\n",
            "\n",
            " Model: Logistic Regression, Embedding: Word2Vec, Config: {'max_iter': 1000, 'solver': 'saga'}\n",
            "--------------------------------------------------------------------------------------\n",
            "\n",
            "📘 TRAINING METRICS\n",
            "Accuracy: 0.6674\n",
            "\n",
            "Class: bearish\n",
            "  Precision: 0.0000\n",
            "  Recall:    0.0000\n",
            "  F1-score:  0.0000\n",
            "\n",
            "Class: bullish\n",
            "  Precision: 0.5157\n",
            "  Recall:    0.2029\n",
            "  F1-score:  0.2912\n",
            "\n",
            "Class: neutral\n",
            "  Precision: 0.6805\n",
            "  Recall:    0.9678\n",
            "  F1-score:  0.7991\n",
            "\n",
            "Macro Avg F1-score: 0.3634\n",
            "\n",
            "📗 VALIDATION METRICS\n",
            "Accuracy: 0.6600\n",
            "\n",
            "Class: bearish\n",
            "  Precision: 0.0000\n",
            "  Recall:    0.0000\n",
            "  F1-score:  0.0000\n",
            "\n",
            "Class: bullish\n",
            "  Precision: 0.4576\n",
            "  Recall:    0.2104\n",
            "  F1-score:  0.2883\n",
            "\n",
            "Class: neutral\n",
            "  Precision: 0.6807\n",
            "  Recall:    0.9539\n",
            "  F1-score:  0.7945\n",
            "\n",
            "Macro Avg F1-score: 0.3609\n"
          ]
        },
        {
          "output_type": "stream",
          "name": "stderr",
          "text": [
            "/usr/local/lib/python3.11/dist-packages/sklearn/metrics/_classification.py:1565: UndefinedMetricWarning: Precision is ill-defined and being set to 0.0 in labels with no predicted samples. Use `zero_division` parameter to control this behavior.\n",
            "  _warn_prf(average, modifier, f\"{metric.capitalize()} is\", len(result))\n",
            "/usr/local/lib/python3.11/dist-packages/sklearn/metrics/_classification.py:1565: UndefinedMetricWarning: Precision is ill-defined and being set to 0.0 in labels with no predicted samples. Use `zero_division` parameter to control this behavior.\n",
            "  _warn_prf(average, modifier, f\"{metric.capitalize()} is\", len(result))\n",
            "/usr/local/lib/python3.11/dist-packages/sklearn/metrics/_classification.py:1565: UndefinedMetricWarning: Precision is ill-defined and being set to 0.0 in labels with no predicted samples. Use `zero_division` parameter to control this behavior.\n",
            "  _warn_prf(average, modifier, f\"{metric.capitalize()} is\", len(result))\n",
            "/usr/local/lib/python3.11/dist-packages/sklearn/metrics/_classification.py:1565: UndefinedMetricWarning: Precision is ill-defined and being set to 0.0 in labels with no predicted samples. Use `zero_division` parameter to control this behavior.\n",
            "  _warn_prf(average, modifier, f\"{metric.capitalize()} is\", len(result))\n",
            "/usr/local/lib/python3.11/dist-packages/sklearn/metrics/_classification.py:1565: UndefinedMetricWarning: Precision is ill-defined and being set to 0.0 in labels with no predicted samples. Use `zero_division` parameter to control this behavior.\n",
            "  _warn_prf(average, modifier, f\"{metric.capitalize()} is\", len(result))\n",
            "/usr/local/lib/python3.11/dist-packages/sklearn/metrics/_classification.py:1565: UndefinedMetricWarning: Precision is ill-defined and being set to 0.0 in labels with no predicted samples. Use `zero_division` parameter to control this behavior.\n",
            "  _warn_prf(average, modifier, f\"{metric.capitalize()} is\", len(result))\n"
          ]
        },
        {
          "output_type": "display_data",
          "data": {
            "text/plain": [
              "<Figure size 550x450 with 1 Axes>"
            ],
            "image/png": "[encoded data removed]"
          },
          "metadata": {}
        },
        {
          "output_type": "stream",
          "name": "stdout",
          "text": [
            "--------------------------------------------------------------------------------------\n",
            "\n",
            " Model: Logistic Regression, Embedding: Word2Vec, Config: {'max_iter': 1000, 'solver': 'liblinear'}\n",
            "--------------------------------------------------------------------------------------\n",
            "\n",
            "📘 TRAINING METRICS\n",
            "Accuracy: 0.6660\n",
            "\n",
            "Class: bearish\n",
            "  Precision: 0.0000\n",
            "  Recall:    0.0000\n",
            "  F1-score:  0.0000\n",
            "\n",
            "Class: bullish\n",
            "  Precision: 0.5180\n",
            "  Recall:    0.1873\n",
            "  F1-score:  0.2751\n",
            "\n",
            "Class: neutral\n",
            "  Precision: 0.6776\n",
            "  Recall:    0.9705\n",
            "  F1-score:  0.7980\n",
            "\n",
            "Macro Avg F1-score: 0.3577\n",
            "\n",
            "📗 VALIDATION METRICS\n",
            "Accuracy: 0.6606\n",
            "\n",
            "Class: bearish\n",
            "  Precision: 0.0000\n",
            "  Recall:    0.0000\n",
            "  F1-score:  0.0000\n",
            "\n",
            "Class: bullish\n",
            "  Precision: 0.4783\n",
            "  Recall:    0.2000\n",
            "  F1-score:  0.2821\n",
            "\n",
            "Class: neutral\n",
            "  Precision: 0.6773\n",
            "  Recall:    0.9579\n",
            "  F1-score:  0.7936\n",
            "\n",
            "Macro Avg F1-score: 0.3585\n"
          ]
        },
        {
          "output_type": "stream",
          "name": "stderr",
          "text": [
            "/usr/local/lib/python3.11/dist-packages/sklearn/metrics/_classification.py:1565: UndefinedMetricWarning: Precision is ill-defined and being set to 0.0 in labels with no predicted samples. Use `zero_division` parameter to control this behavior.\n",
            "  _warn_prf(average, modifier, f\"{metric.capitalize()} is\", len(result))\n",
            "/usr/local/lib/python3.11/dist-packages/sklearn/metrics/_classification.py:1565: UndefinedMetricWarning: Precision is ill-defined and being set to 0.0 in labels with no predicted samples. Use `zero_division` parameter to control this behavior.\n",
            "  _warn_prf(average, modifier, f\"{metric.capitalize()} is\", len(result))\n",
            "/usr/local/lib/python3.11/dist-packages/sklearn/metrics/_classification.py:1565: UndefinedMetricWarning: Precision is ill-defined and being set to 0.0 in labels with no predicted samples. Use `zero_division` parameter to control this behavior.\n",
            "  _warn_prf(average, modifier, f\"{metric.capitalize()} is\", len(result))\n",
            "/usr/local/lib/python3.11/dist-packages/sklearn/metrics/_classification.py:1565: UndefinedMetricWarning: Precision is ill-defined and being set to 0.0 in labels with no predicted samples. Use `zero_division` parameter to control this behavior.\n",
            "  _warn_prf(average, modifier, f\"{metric.capitalize()} is\", len(result))\n",
            "/usr/local/lib/python3.11/dist-packages/sklearn/metrics/_classification.py:1565: UndefinedMetricWarning: Precision is ill-defined and being set to 0.0 in labels with no predicted samples. Use `zero_division` parameter to control this behavior.\n",
            "  _warn_prf(average, modifier, f\"{metric.capitalize()} is\", len(result))\n",
            "/usr/local/lib/python3.11/dist-packages/sklearn/metrics/_classification.py:1565: UndefinedMetricWarning: Precision is ill-defined and being set to 0.0 in labels with no predicted samples. Use `zero_division` parameter to control this behavior.\n",
            "  _warn_prf(average, modifier, f\"{metric.capitalize()} is\", len(result))\n"
          ]
        },
        {
          "output_type": "display_data",
          "data": {
            "text/plain": [
              "<Figure size 550x450 with 1 Axes>"
            ],
            "image/png": "[encoded data removed]"
          },
          "metadata": {}
        },
        {
          "output_type": "stream",
          "name": "stdout",
          "text": [
            "--------------------------------------------------------------------------------------\n",
            "\n",
            " Model: Logistic Regression, Embedding: GloVe, Config: {'max_iter': 1000, 'solver': 'lbfgs'}\n",
            "--------------------------------------------------------------------------------------\n",
            "\n",
            "📘 TRAINING METRICS\n",
            "Accuracy: 0.7264\n",
            "\n",
            "Class: bearish\n",
            "  Precision: 0.5917\n",
            "  Recall:    0.2964\n",
            "  F1-score:  0.3949\n",
            "\n",
            "Class: bullish\n",
            "  Precision: 0.6069\n",
            "  Recall:    0.4246\n",
            "  F1-score:  0.4996\n",
            "\n",
            "Class: neutral\n",
            "  Precision: 0.7609\n",
            "  Recall:    0.9207\n",
            "  F1-score:  0.8332\n",
            "\n",
            "Macro Avg F1-score: 0.5759\n",
            "\n",
            "📗 VALIDATION METRICS\n",
            "Accuracy: 0.7135\n",
            "\n",
            "Class: bearish\n",
            "  Precision: 0.5299\n",
            "  Recall:    0.2465\n",
            "  F1-score:  0.3365\n",
            "\n",
            "Class: bullish\n",
            "  Precision: 0.5742\n",
            "  Recall:    0.3818\n",
            "  F1-score:  0.4587\n",
            "\n",
            "Class: neutral\n",
            "  Precision: 0.7531\n",
            "  Recall:    0.9256\n",
            "  F1-score:  0.8305\n",
            "\n",
            "Macro Avg F1-score: 0.5419\n"
          ]
        },
        {
          "output_type": "display_data",
          "data": {
            "text/plain": [
              "<Figure size 550x450 with 1 Axes>"
            ],
            "image/png": "[encoded data removed]"
          },
          "metadata": {}
        },
        {
          "output_type": "stream",
          "name": "stdout",
          "text": [
            "--------------------------------------------------------------------------------------\n",
            "\n",
            " Model: Logistic Regression, Embedding: GloVe, Config: {'max_iter': 1000, 'solver': 'saga'}\n",
            "--------------------------------------------------------------------------------------\n",
            "\n",
            "📘 TRAINING METRICS\n",
            "Accuracy: 0.7266\n",
            "\n",
            "Class: bearish\n",
            "  Precision: 0.5951\n",
            "  Recall:    0.2955\n",
            "  F1-score:  0.3949\n",
            "\n",
            "Class: bullish\n",
            "  Precision: 0.6072\n",
            "  Recall:    0.4252\n",
            "  F1-score:  0.5002\n",
            "\n",
            "Class: neutral\n",
            "  Precision: 0.7607\n",
            "  Recall:    0.9211\n",
            "  F1-score:  0.8332\n",
            "\n",
            "Macro Avg F1-score: 0.5761\n",
            "\n",
            "📗 VALIDATION METRICS\n",
            "Accuracy: 0.7129\n",
            "\n",
            "Class: bearish\n",
            "  Precision: 0.5299\n",
            "  Recall:    0.2465\n",
            "  F1-score:  0.3365\n",
            "\n",
            "Class: bullish\n",
            "  Precision: 0.5720\n",
            "  Recall:    0.3818\n",
            "  F1-score:  0.4579\n",
            "\n",
            "Class: neutral\n",
            "  Precision: 0.7530\n",
            "  Recall:    0.9248\n",
            "  F1-score:  0.8301\n",
            "\n",
            "Macro Avg F1-score: 0.5415\n"
          ]
        },
        {
          "output_type": "display_data",
          "data": {
            "text/plain": [
              "<Figure size 550x450 with 1 Axes>"
            ],
            "image/png": "[encoded data removed]"
          },
          "metadata": {}
        },
        {
          "output_type": "stream",
          "name": "stdout",
          "text": [
            "--------------------------------------------------------------------------------------\n",
            "\n",
            " Model: Logistic Regression, Embedding: GloVe, Config: {'max_iter': 1000, 'solver': 'liblinear'}\n",
            "--------------------------------------------------------------------------------------\n",
            "\n",
            "📘 TRAINING METRICS\n",
            "Accuracy: 0.7254\n",
            "\n",
            "Class: bearish\n",
            "  Precision: 0.6224\n",
            "  Recall:    0.2556\n",
            "  F1-score:  0.3624\n",
            "\n",
            "Class: bullish\n",
            "  Precision: 0.6073\n",
            "  Recall:    0.4122\n",
            "  F1-score:  0.4911\n",
            "\n",
            "Class: neutral\n",
            "  Precision: 0.7536\n",
            "  Recall:    0.9326\n",
            "  F1-score:  0.8336\n",
            "\n",
            "Macro Avg F1-score: 0.5624\n",
            "\n",
            "📗 VALIDATION METRICS\n",
            "Accuracy: 0.7171\n",
            "\n",
            "Class: bearish\n",
            "  Precision: 0.5752\n",
            "  Recall:    0.2257\n",
            "  F1-score:  0.3242\n",
            "\n",
            "Class: bullish\n",
            "  Precision: 0.5983\n",
            "  Recall:    0.3636\n",
            "  F1-score:  0.4523\n",
            "\n",
            "Class: neutral\n",
            "  Precision: 0.7452\n",
            "  Recall:    0.9417\n",
            "  F1-score:  0.8320\n",
            "\n",
            "Macro Avg F1-score: 0.5362\n"
          ]
        },
        {
          "output_type": "display_data",
          "data": {
            "text/plain": [
              "<Figure size 550x450 with 1 Axes>"
            ],
            "image/png": "[encoded data removed]"
          },
          "metadata": {}
        },
        {
          "output_type": "stream",
          "name": "stdout",
          "text": [
            "--------------------------------------------------------------------------------------\n",
            "\n",
            " Model: Logistic Regression, Embedding: Transformer, Config: {'max_iter': 1000, 'solver': 'lbfgs'}\n",
            "--------------------------------------------------------------------------------------\n",
            "\n",
            "📘 TRAINING METRICS\n",
            "Accuracy: 0.8160\n",
            "\n",
            "Class: bearish\n",
            "  Precision: 0.7458\n",
            "  Recall:    0.6101\n",
            "  F1-score:  0.6711\n",
            "\n",
            "Class: bullish\n",
            "  Precision: 0.7589\n",
            "  Recall:    0.6346\n",
            "  F1-score:  0.6912\n",
            "\n",
            "Class: neutral\n",
            "  Precision: 0.8418\n",
            "  Recall:    0.9205\n",
            "  F1-score:  0.8794\n",
            "\n",
            "Macro Avg F1-score: 0.7472\n",
            "\n",
            "📗 VALIDATION METRICS\n",
            "Accuracy: 0.7250\n",
            "\n",
            "Class: bearish\n",
            "  Precision: 0.5506\n",
            "  Recall:    0.4722\n",
            "  F1-score:  0.5084\n",
            "\n",
            "Class: bullish\n",
            "  Precision: 0.6132\n",
            "  Recall:    0.4571\n",
            "  F1-score:  0.5238\n",
            "\n",
            "Class: neutral\n",
            "  Precision: 0.7796\n",
            "  Recall:    0.8673\n",
            "  F1-score:  0.8211\n",
            "\n",
            "Macro Avg F1-score: 0.6178\n"
          ]
        },
        {
          "output_type": "display_data",
          "data": {
            "text/plain": [
              "<Figure size 550x450 with 1 Axes>"
            ],
            "image/png": "[encoded data removed]"
          },
          "metadata": {}
        },
        {
          "output_type": "stream",
          "name": "stdout",
          "text": [
            "--------------------------------------------------------------------------------------\n",
            "\n",
            " Model: Logistic Regression, Embedding: Transformer, Config: {'max_iter': 1000, 'solver': 'saga'}\n",
            "--------------------------------------------------------------------------------------\n",
            "\n",
            "📘 TRAINING METRICS\n",
            "Accuracy: 0.8158\n",
            "\n",
            "Class: bearish\n",
            "  Precision: 0.7473\n",
            "  Recall:    0.6101\n",
            "  F1-score:  0.6718\n",
            "\n",
            "Class: bullish\n",
            "  Precision: 0.7588\n",
            "  Recall:    0.6339\n",
            "  F1-score:  0.6908\n",
            "\n",
            "Class: neutral\n",
            "  Precision: 0.8413\n",
            "  Recall:    0.9205\n",
            "  F1-score:  0.8791\n",
            "\n",
            "Macro Avg F1-score: 0.7472\n",
            "\n",
            "📗 VALIDATION METRICS\n",
            "Accuracy: 0.7234\n",
            "\n",
            "Class: bearish\n",
            "  Precision: 0.5458\n",
            "  Recall:    0.4757\n",
            "  F1-score:  0.5083\n",
            "\n",
            "Class: bullish\n",
            "  Precision: 0.6111\n",
            "  Recall:    0.4571\n",
            "  F1-score:  0.5230\n",
            "\n",
            "Class: neutral\n",
            "  Precision: 0.7796\n",
            "  Recall:    0.8641\n",
            "  F1-score:  0.8196\n",
            "\n",
            "Macro Avg F1-score: 0.6170\n"
          ]
        },
        {
          "output_type": "display_data",
          "data": {
            "text/plain": [
              "<Figure size 550x450 with 1 Axes>"
            ],
            "image/png": "[encoded data removed]"
          },
          "metadata": {}
        },
        {
          "output_type": "stream",
          "name": "stdout",
          "text": [
            "--------------------------------------------------------------------------------------\n",
            "\n",
            " Model: Logistic Regression, Embedding: Transformer, Config: {'max_iter': 1000, 'solver': 'liblinear'}\n",
            "--------------------------------------------------------------------------------------\n",
            "\n",
            "📘 TRAINING METRICS\n",
            "Accuracy: 0.8118\n",
            "\n",
            "Class: bearish\n",
            "  Precision: 0.7559\n",
            "  Recall:    0.5849\n",
            "  F1-score:  0.6595\n",
            "\n",
            "Class: bullish\n",
            "  Precision: 0.7554\n",
            "  Recall:    0.6144\n",
            "  F1-score:  0.6777\n",
            "\n",
            "Class: neutral\n",
            "  Precision: 0.8337\n",
            "  Recall:    0.9261\n",
            "  F1-score:  0.8775\n",
            "\n",
            "Macro Avg F1-score: 0.7382\n",
            "\n",
            "📗 VALIDATION METRICS\n",
            "Accuracy: 0.7344\n",
            "\n",
            "Class: bearish\n",
            "  Precision: 0.5956\n",
            "  Recall:    0.4653\n",
            "  F1-score:  0.5224\n",
            "\n",
            "Class: bullish\n",
            "  Precision: 0.6287\n",
            "  Recall:    0.4442\n",
            "  F1-score:  0.5205\n",
            "\n",
            "Class: neutral\n",
            "  Precision: 0.7769\n",
            "  Recall:    0.8875\n",
            "  F1-score:  0.8285\n",
            "\n",
            "Macro Avg F1-score: 0.6238\n"
          ]
        },
        {
          "output_type": "display_data",
          "data": {
            "text/plain": [
              "<Figure size 550x450 with 1 Axes>"
            ],
            "image/png": "[encoded data removed]"
          },
          "metadata": {}
        }
      ]
    },
    {
      "cell_type": "code",
      "execution_count": null,
      "id": "f6fb953d",
      "metadata": {
        "id": "f6fb953d"
      },
      "outputs": [],
      "source": [
        "# Initialize and train classifier\n",
        "from sklearn.linear_model import LogisticRegression\n",
        "clf = LogisticRegression(max_iter=1000)\n",
        "clf.fit(X_train_avgembeddings_glove, y_train)"
      ]
    },
    {
      "cell_type": "code",
      "execution_count": null,
      "id": "151cbd43",
      "metadata": {
        "id": "151cbd43"
      },
      "outputs": [],
      "source": [
        "y_pred_logistic = clf.predict(X_val_avgembeddings_glove)"
      ]
    },
    {
      "cell_type": "markdown",
      "id": "94d010fc",
      "metadata": {
        "id": "94d010fc"
      },
      "source": [
        "# 9. Evaluation"
      ]
    },
    {
      "cell_type": "markdown",
      "id": "9cde5fe2",
      "metadata": {
        "id": "9cde5fe2"
      },
      "source": [
        "## 9.1. KNN Classifier"
      ]
    },
    {
      "cell_type": "markdown",
      "id": "841c927e",
      "metadata": {
        "id": "841c927e"
      },
      "source": [
        "- Evaluate KNN Classifier performance with the different feature engineering approaches."
      ]
    },
    {
      "cell_type": "markdown",
      "id": "dbca0023",
      "metadata": {
        "id": "dbca0023"
      },
      "source": [
        "__`Step XX`__ Evaluate KNN Classifier with BoW."
      ]
    },
    {
      "cell_type": "code",
      "execution_count": null,
      "id": "08e4a09f",
      "metadata": {
        "id": "08e4a09f"
      },
      "outputs": [],
      "source": [
        "accuracy = accuracy_score(y_val, y_pred_bow)\n",
        "\n",
        "# Classification report for precision, recall, F1-score\n",
        "report = classification_report(y_val, y_pred_bow, target_names=['bearish', 'bullish', 'neutral'], output_dict=True)\n",
        "\n",
        "# Evaluation metrics\n",
        "print(\"Accuracy: {:.4f}\".format(accuracy))\n",
        "print(\"\\nClassification Report:\")\n",
        "for label, metrics in report.items():\n",
        "    if label in ['bearish', 'bullish', 'neutral']:\n",
        "        print(f\"\\nClass: {label}\")\n",
        "        print(f\"  Precision: {metrics['precision']:.4f}\")\n",
        "        print(f\"  Recall:    {metrics['recall']:.4f}\")\n",
        "        print(f\"  F1-score:  {metrics['f1-score']:.4f}\")\n",
        "print(f\"\\nOverall Macro Avg F1-score: {report['macro avg']['f1-score']:.4f}\")\n",
        "\n",
        "# Confusion Matrix\n",
        "cm = confusion_matrix(y_val, y_pred_bow)\n",
        "disp = ConfusionMatrixDisplay(confusion_matrix=cm, display_labels=['bearish', 'bullish', 'neutral'])\n",
        "fig, ax = plt.subplots(figsize=(6, 5))\n",
        "disp.plot(ax=ax, colorbar=False)\n",
        "ax.set_title(\"Confusion Matrix - KNN (Cosine Distance)\")\n",
        "plt.tight_layout()\n",
        "plt.show()"
      ]
    },
    {
      "cell_type": "markdown",
      "id": "9b233dcc",
      "metadata": {
        "id": "9b233dcc"
      },
      "source": [
        "## 9.2. Logistic Regression"
      ]
    },
    {
      "cell_type": "code",
      "execution_count": null,
      "id": "b9b121bf",
      "metadata": {
        "id": "b9b121bf"
      },
      "outputs": [],
      "source": [
        "# Evaluate\n",
        "print(\"\\nClassification Report:\")\n",
        "print(classification_report(y_val, y_pred_logistic))"
      ]
    }
  ],
  "metadata": {
    "kernelspec": {
      "display_name": "tx_mng",
      "language": "python",
      "name": "python3"
    },
    "language_info": {
      "codemirror_mode": {
        "name": "ipython",
        "version": 3
      },
      "file_extension": ".py",
      "mimetype": "text/x-python",
      "name": "python",
      "nbconvert_exporter": "python",
      "pygments_lexer": "ipython3",
      "version": "3.11.0"
    },
    "colab": {
      "provenance": [],
      "collapsed_sections": [
        "f875f2f4"
      ],
      "toc_visible": true
    }
  },
  "nbformat": 4,
  "nbformat_minor": 5
}